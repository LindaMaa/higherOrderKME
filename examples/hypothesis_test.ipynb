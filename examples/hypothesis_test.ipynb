{
  "nbformat": 4,
  "nbformat_minor": 0,
  "metadata": {
    "colab": {
      "name": "hypothesis_test.ipynb",
      "provenance": [],
      "collapsed_sections": [],
      "machine_shape": "hm",
      "mount_file_id": "1HzSo_uJGbuQ6hkJQlaUVZEVgQes3R2ZY",
      "authorship_tag": "ABX9TyOMKce/N8JI4rzUlTIzqxd6",
      "include_colab_link": true
    },
    "kernelspec": {
      "name": "python3",
      "display_name": "Python 3"
    },
    "language_info": {
      "name": "python"
    },
    "accelerator": "GPU"
  },
  "cells": [
    {
      "cell_type": "markdown",
      "metadata": {
        "id": "view-in-github",
        "colab_type": "text"
      },
      "source": [
        "<a href=\"https://colab.research.google.com/github/maudl3116/higherOrderKME/blob/main/examples/hypothesis_test.ipynb\" target=\"_parent\"><img src=\"https://colab.research.google.com/assets/colab-badge.svg\" alt=\"Open In Colab\"/></a>"
      ]
    },
    {
      "cell_type": "markdown",
      "metadata": {
        "id": "vfC176eVtUZ8"
      },
      "source": [
        "#**Hypothesis testing on filtrations**\n",
        "Reproduces the results for Example in Sec. 4.1 in [Higher Order Kernel Mean Embeddings to Capture Filtrations of Stochastic Processes](https://arxiv.org/pdf/2109.03582.pdf)\n",
        "***"
      ]
    },
    {
      "cell_type": "markdown",
      "metadata": {
        "id": "Npyi6rh3uq06"
      },
      "source": [
        "### First we install and import packages"
      ]
    },
    {
      "cell_type": "code",
      "metadata": {
        "id": "-9U8PBIUHMQR"
      },
      "source": [
        "# Install the higherOrderKME library\n",
        "!pip install git+https://github.com/maudl3116/higherOrderKME.git"
      ],
      "execution_count": null,
      "outputs": []
    },
    {
      "cell_type": "code",
      "metadata": {
        "id": "MU8XN8m2igdu"
      },
      "source": [
        "# Optional installation for Latex figures\n",
        "!sudo apt install texlive texlive-latex-extra texlive-fonts-recommended dvipng\n",
        "!pip install latex\n",
        "!sudo apt install cm-super"
      ],
      "execution_count": null,
      "outputs": []
    },
    {
      "cell_type": "code",
      "metadata": {
        "id": "NIb1iOVzqqGl"
      },
      "source": [
        "import torch\n",
        "import numpy as np\n",
        "import matplotlib.pyplot as plt\n",
        "from tqdm.notebook import tqdm\n",
        "import itertools\n",
        "import higherOrderKME\n",
        "from higherOrderKME import sigkernel\n",
        "\n",
        "# Using seaborn's style\n",
        "plt.style.use('seaborn-colorblind')\n",
        "width = 345\n",
        "tex_fonts = {\n",
        "    \"text.usetex\": True,  # put False if this raises errors\n",
        "    \"font.family\": \"serif\",\n",
        "    \"axes.labelsize\": 24,\n",
        "    \"font.size\": 22,\n",
        "    \"legend.fontsize\": 24,\n",
        "    \"xtick.labelsize\": 20,\n",
        "    \"ytick.labelsize\": 20,\n",
        "    'figure.figsize': (7, 5),\n",
        "}\n",
        "plt.rcParams.update(tex_fonts)"
      ],
      "execution_count": 1,
      "outputs": []
    },
    {
      "cell_type": "code",
      "metadata": {
        "id": "v-z2iQk83KnY"
      },
      "source": [
        "device = 'cuda'"
      ],
      "execution_count": 2,
      "outputs": []
    },
    {
      "cell_type": "markdown",
      "metadata": {
        "id": "2QWusXTI28sM"
      },
      "source": [
        "# 1) Visualize histograms for fixed hyperparameters"
      ]
    },
    {
      "cell_type": "code",
      "metadata": {
        "id": "tf5wTcaZqvzz"
      },
      "source": [
        "# number of path coordinates and number of time steps\n",
        "D, L = 1, 3 \n",
        "\n",
        "# experimental setup\n",
        "repeats, n_samples, n, lambda_ = 100, 500, 5*1e5, 1e-5\n",
        "\n",
        "MMD_1 = np.zeros((repeats, 2))\n",
        "MMD_2 = np.zeros((repeats, 2))\n",
        "\n",
        "# to store the sample paths from X_n and X\n",
        "X = np.zeros((repeats, n_samples, 2, L, D)) \n",
        "X_n = np.zeros((repeats, n_samples, 2, L, D))   \n",
        "\n",
        "# sample from X_n \n",
        "omega_1 = np.random.choice(a=[-1, 1], size=(repeats, n_samples, 2))\n",
        "omega_2 = np.random.choice(a=[-1, 1], size=(repeats, n_samples, 2))\n",
        "X_n[:, :, :, 1, 0] = omega_1 * 1./n\n",
        "X_n[:, :, :, 2, 0] = 0.1 * omega_1\n",
        "\n",
        "# sample from X\n",
        "omega_1 = np.random.choice(a=[-1, 1], size=(repeats, n_samples, 2))\n",
        "X[:, :, :, 2, 0] = 0.1 * omega_1"
      ],
      "execution_count": 27,
      "outputs": []
    },
    {
      "cell_type": "code",
      "metadata": {
        "id": "zT4BYWEzqsvg"
      },
      "source": [
        "# setup the signature kernel\n",
        "\n",
        "dyadic_order = 2\n",
        "dyadic_order_1 = 1  \n",
        "\n",
        "_naive_solver = False\n",
        "\n",
        "static_kernel_1 = sigkernel.RBFKernel(sigma=1e-5, add_time=L-1)\n",
        "static_kernel_21 = sigkernel.RBFKernel(sigma=1e-5, add_time=L-1)\n",
        "static_kernel_22 = sigkernel.RBFKernel(sigma=2., add_time=L-1)\n",
        "\n",
        "kernel_order1 = sigkernel.SigKernel(static_kernel_1, dyadic_order, _naive_solver)\n",
        "kernel_order2 = sigkernel.SigKernel([static_kernel_21, static_kernel_22], [dyadic_order, dyadic_order_1], _naive_solver)"
      ],
      "execution_count": 28,
      "outputs": []
    },
    {
      "cell_type": "markdown",
      "metadata": {
        "id": "Fu1Wykj-4DeJ"
      },
      "source": [
        "**Run the experiment**"
      ]
    },
    {
      "cell_type": "code",
      "metadata": {
        "id": "V_MLLHEyqx4y"
      },
      "source": [
        "for i in range(repeats):\n",
        "\n",
        "    x0 = torch.tensor(X[i, :, 0, :, :], dtype=torch.float64).to(device)     # X of shape (repeats,n_samples,2,L,D)\n",
        "    x0_ = torch.tensor(X[i, :, 1, :, :], dtype=torch.float64).to(device)    # independent copy of X\n",
        "    xn = torch.tensor(X_n[i, :, 0, :, :], dtype=torch.float64).to(device)\n",
        "    xn_ = torch.tensor(X_n[i, :, 1, :, :], dtype=torch.float64).to(device)  # independent copy of X_n\n",
        "\n",
        "    MMD_2[i,0] = kernel_order2.compute_mmd(x0, x0_, lambda_=lambda_, estimator='ub', order=2)   \n",
        "    MMD_2[i,1] = kernel_order2.compute_mmd(xn, x0, lambda_=lambda_, estimator='ub', order=2)   \n",
        "    \n",
        "    MMD_1[i,0] = kernel_order1.compute_mmd(x0, x0_, estimator='ub', order=1)   \n",
        "    MMD_1[i,1] = kernel_order1.compute_mmd(xn, x0, estimator='ub', order=1)   "
      ],
      "execution_count": 29,
      "outputs": []
    },
    {
      "cell_type": "markdown",
      "metadata": {
        "id": "5LuQtkbc38H7"
      },
      "source": [
        "**Generate the figure**"
      ]
    },
    {
      "cell_type": "code",
      "metadata": {
        "colab": {
          "base_uri": "https://localhost:8080/",
          "height": 331
        },
        "id": "mZ4ygu7FM_eu",
        "outputId": "1bd3e606-9d1d-452e-d775-5a46882c0d98"
      },
      "source": [
        "fig, ax = plt.subplots(1,2,figsize=(15,5))\n",
        "\n",
        "ax[0].hist(MMD_1[:,0], bins=25, label=r'$\\mathcal{H}_0$',edgecolor='#E6E6E6')\n",
        "ax[0].hist(MMD_1[:,1], bins=25, label=r'$\\mathcal{H}_A$',edgecolor='#E6E6E6')\n",
        "\n",
        "ax[0].legend(loc='upper right', ncol=2, fontsize=22)\n",
        "ax[0].set_xlabel(r'$\\mathcal{D}^1_{\\mathcal{S}}(X,Y)^2$', labelpad=10)\n",
        "ax[0].set_ylabel('Count', labelpad=10)\n",
        "\n",
        "ax[1].hist(MMD_2[:,0], bins=25, label=r'$\\mathcal{H}_0$', edgecolor='#E6E6E6')\n",
        "ax[1].hist(MMD_2[:,1], bins=25, label=r'$\\mathcal{H}_A$', edgecolor='#E6E6E6')\n",
        "\n",
        "ax[1].legend(loc='upper right', ncol=2, fontsize=22)\n",
        "ax[1].set_xlabel(r'$\\mathcal{D}^2_{\\mathcal{S}}(X,Y)^2$', labelpad=10)\n",
        "ax[1].set_ylabel('Count', labelpad=10)\n",
        "\n",
        "plt.tight_layout(pad=3.0)\n",
        "# plt.savefig('MMD_binary_tex.pdf',bbox_inches='tight')\n",
        "plt.show()"
      ],
      "execution_count": 30,
      "outputs": [
        {
          "output_type": "display_data",
          "data": {
            "image/png": "[encoded data removed]",
            "text/plain": [
              "<Figure size 1080x360 with 2 Axes>"
            ]
          },
          "metadata": {
            "needs_background": "light"
          }
        }
      ]
    },
    {
      "cell_type": "markdown",
      "metadata": {
        "id": "Dynm36SOHJSJ"
      },
      "source": [
        "#2) Full two-sample test with 1st and 2nd order MMDs\n",
        "\n",
        "We start by defining some utilities"
      ]
    },
    {
      "cell_type": "markdown",
      "metadata": {
        "id": "YaGGpEO3HZgc"
      },
      "source": [
        "### Second order kernel matrix"
      ]
    },
    {
      "cell_type": "code",
      "metadata": {
        "id": "PNh5pL6qtwL2"
      },
      "source": [
        "def K_order2(X, Y, kernel, return_order1=False):\n",
        "    \"\"\"\n",
        "    Forms the kernel matrix K for the two sample test using the order2 or order1 kernel\n",
        "\n",
        "    Parameters:\n",
        "    X - (n_samples,n_obs,d) array of samples from the first distribution \n",
        "    Y - (n_samples,n_obs,d) array of samples from the second distribution \n",
        "    kernel - signature kernel\n",
        "    \n",
        "    Returns:\n",
        "    K - matrix formed from the kernel values of all pairs of samples from the two distributions\n",
        "    \"\"\"\n",
        "\n",
        "    # Compute Gram matrices order 1. Ex K_XY_1[i,j,p,q]= k( X[i,:,:p], Y[j,:, :q])\n",
        "    K_XX_1 = kernel.compute_Gram(X, X, sym=True, return_sol_grid=True)   # shape (batch_X, batch_X, length_X, length_X)\n",
        "    K_YY_1 = kernel.compute_Gram(Y, Y, sym=True, return_sol_grid=True)   # shape (batch_Y, batch_Y, length_Y, length_Y)\n",
        "    K_XY_1 = kernel.compute_Gram(X, Y, sym=False, return_sol_grid=True)  # shape (batch_X, batch_Y, length_X, length_Y)\n",
        "\n",
        "    if return_order1:\n",
        "      top = torch.cat([K_XX_1, K_XY_1], axis=1)\n",
        "      bottom = torch.cat([K_XY_1.transpose(0,1), K_YY_1], axis=1)\n",
        "      K = torch.cat([top, bottom], axis=0)\n",
        "      return K\n",
        "\n",
        "    # Compute Gram matrices order 2. Ex K_XY_2[i,j]= k( X^1[i], Y^1[j] ) where X^1[i] = t -> E[k(X,.) | F_t](omega_i)\n",
        "    K_XX_2 = kernel.compute_HigherOrder_Gram(K_XX_1, K_XX_1, K_XX_1, kernel.lambda_, sym=True)       # shape (batch_X, batch_X)\n",
        "    K_YY_2 = kernel.compute_HigherOrder_Gram(K_YY_1, K_YY_1, K_YY_1, kernel.lambda_, sym=True)       # shape (batch_Y, batch_Y)\n",
        "    K_XY_2 = kernel.compute_HigherOrder_Gram(K_XX_1, K_XY_1, K_YY_1, kernel.lambda_, sym=False)      # shape (batch_X, batch_Y)\n",
        "\n",
        "    top = torch.cat([K_XX_2, K_XY_2], axis=1)\n",
        "    bottom = torch.cat([K_XY_2.transpose(0,1), K_YY_2], axis=1)\n",
        "    K = torch.cat([top, bottom], axis=0)\n",
        "\n",
        "    return K"
      ],
      "execution_count": 3,
      "outputs": []
    },
    {
      "cell_type": "markdown",
      "metadata": {
        "id": "5EyL1rb1HfBa"
      },
      "source": [
        "###First order kernel matrix"
      ]
    },
    {
      "cell_type": "code",
      "metadata": {
        "id": "3SayaqyMuksj"
      },
      "source": [
        "def K_order1(X, Y, kernel):\n",
        "    \"\"\"\n",
        "    Forms the kernel matrix K for the two sample test\n",
        "    \n",
        "    Parameters:\n",
        "    X - (n_samples,n_obs,d) array of samples from the first distribution \n",
        "    Y - (n_samples,n_obs,d) array of samples from the second distribution \n",
        "    kernel - signature kernel\n",
        "    \n",
        "    Returns:\n",
        "    K - matrix formed from the kernel values of all pairs of samples from the two distributions\n",
        "    \"\"\"\n",
        "\n",
        "    K_XX = kernel.compute_Gram(X, X, sym=True)\n",
        "    K_YY = kernel.compute_Gram(Y, Y, sym=True)\n",
        "    K_XY = kernel.compute_Gram(X, Y, sym=False)\n",
        "    \n",
        "    top = torch.cat([K_XX, K_XY], axis=1)\n",
        "    bottom = torch.cat([K_XY.transpose(0,1), K_YY], axis=1)\n",
        "    K = torch.cat([top,bottom], axis=0)\n",
        "\n",
        "    return K"
      ],
      "execution_count": 4,
      "outputs": []
    },
    {
      "cell_type": "markdown",
      "metadata": {
        "id": "YGCXU3QmHocm"
      },
      "source": [
        "###Utility function to form the second order kernel matrix from the first order kernel matrix"
      ]
    },
    {
      "cell_type": "code",
      "metadata": {
        "id": "rGEe6QTgxxp5"
      },
      "source": [
        "def order2_from_order1(K_1, kernel, M):\n",
        "  \"\"\"\n",
        "  Forms the kernel matrix K for the 2nd order two sample test using the precomputed 1st order kernel\n",
        "  \"\"\"\n",
        "  K_XX_1 = K_1[:M, :M]\n",
        "  K_YY_1 = K_1[M:, M:]\n",
        "  K_XY_1 = K_1[:M, M:]\n",
        "\n",
        "  # Compute Gram matrices order 2. Ex K_XY_2[i,j]= k( X^1[i], Y^1[j] ) where X^1[i] = t -> E[k(X,.) | F_t](omega_i)\n",
        "  K_XX_2 = kernel.compute_HigherOrder_Gram(K_XX_1, K_XX_1, K_XX_1, kernel.lambda_, sym=True)       # shape (batch_X, batch_X)\n",
        "  K_YY_2 = kernel.compute_HigherOrder_Gram(K_YY_1, K_YY_1, K_YY_1, kernel.lambda_, sym=True)       # shape (batch_Y, batch_Y)\n",
        "  K_XY_2 = kernel.compute_HigherOrder_Gram(K_XX_1, K_XY_1, K_YY_1, kernel.lambda_, sym=False)      # shape (batch_X, batch_Y)\n",
        "  \n",
        "  top = torch.cat([K_XX_2, K_XY_2], axis=1)\n",
        "  bottom = torch.cat([K_XY_2.transpose(0,1), K_YY_2], axis=1)\n",
        "  K = torch.cat([top,bottom], axis=0)\n",
        "\n",
        "  return K"
      ],
      "execution_count": 5,
      "outputs": []
    },
    {
      "cell_type": "code",
      "metadata": {
        "id": "jNdLCaDvsd1M"
      },
      "source": [
        "def MMD_K(K, M,N, compute_var=False):\n",
        "    \"\"\"\n",
        "    Calculates the empirical MMD^{2} given a kernel matrix computed from the samples and the sample sizes of each distribution.\n",
        "    \n",
        "    Parameters:\n",
        "    K - kernel matrix of all pairwise kernel values of the two distributions\n",
        "    M - number of samples from first distribution\n",
        "    N - number of samples from first distribution\n",
        "    \n",
        "    Returns:\n",
        "    MMDsquared - empirical estimate of MMD^{2}\n",
        "    \"\"\"\n",
        "\n",
        "    Kxx = K[:N, :N]\n",
        "    Kyy = K[N:, N:]\n",
        "    Kxy = K[:N, N:]\n",
        "\n",
        "    t1 = (1./(M*(M-1)))*torch.sum(Kxx - torch.diag(torch.diagonal(Kxx)))\n",
        "    t2 = (1./(M*(M-1)))*torch.sum(Kxy - torch.diag(torch.diagonal(Kxy)))\n",
        "    t3 = (1./(N*(N-1)))* torch.sum(Kyy - torch.diag(torch.diagonal(Kyy)))\n",
        "    \n",
        "    MMDsquared = (t1 - 2.*t2 + t3)\n",
        "    \n",
        "    if not compute_var:\n",
        "      return MMDsquared\n",
        "    else:\n",
        "      hh = Kxx + Kyy - Kxy - Kxy.transpose(0,1)\n",
        "      V1 = torch.dot(hh.sum(1)/N,hh.sum(1)/N) / N\n",
        "      V2 = (hh).sum() / (M) / M\n",
        "      varEst = 4*(V1 - V2**2)\n",
        "      if  varEst == 0.0:\n",
        "        print('error!!' + str(V1))\n",
        "      return MMDsquared, varEst"
      ],
      "execution_count": 6,
      "outputs": []
    },
    {
      "cell_type": "markdown",
      "metadata": {
        "id": "r16nyrvDH1Du"
      },
      "source": [
        "###Two-sample test with rank-1 and rank-2 MMD"
      ]
    },
    {
      "cell_type": "code",
      "metadata": {
        "id": "5xBlrdWLwbYM"
      },
      "source": [
        "def two_sample_test(X, Y, kernel, n_perms, z_alpha = 0.05, make_K = K_order1, return_perm=False, return_mmd=False):\n",
        "  \"\"\"\n",
        "    Performs the two sample test and returns an accept or reject statement\n",
        "    \n",
        "    Parameters:\n",
        "    X - (n_samples, n_obs, d) array of samples from the first distribution \n",
        "    Y - (n_samples, n_obs, d) array of samples from the second distribution \n",
        "    kernel - signature kernel\n",
        "    n_perms - number of permutations performed when bootstrapping the null\n",
        "    z_alpha - rejection threshold of the test\n",
        "    return_p - option to return the p-value of the test\n",
        "    make_K - function called to construct the kernel matrix used to compute the empirical MMD\n",
        "    \n",
        "    Returns:\n",
        "    rej - 1 if null rejected, 0 if null accepted\n",
        "    p-value - p_value of test\n",
        "    \n",
        "  \"\"\" \n",
        "  if make_K == K_order1:\n",
        "    return two_sample_test1(X, Y, kernel, n_perms, z_alpha, make_K, return_perm, return_mmd)\n",
        "  else:\n",
        "    # Number of samples of each distribution is identified and kernel matrix formed\n",
        "    M = X.shape[0]\n",
        "    N = Y.shape[0]\n",
        "    K_1 = make_K(X, Y, kernel, return_order1=True) # (batch_X, batch_X, length_X, length_X)\n",
        "\n",
        "    # Empirical rank-2 MMD^{2} calculated\n",
        "    K = order2_from_order1(K_1, kernel,M)\n",
        "    MMD_test = MMD_K(K,M,N)\n",
        "\n",
        "    if return_mmd:\n",
        "      return MMD_test\n",
        "    # For n_perms repeats the kernel matrix is shuffled and empirical MMD^{2} recomputed\n",
        "    # to simulate the null\n",
        "    shuffled_tests = np.zeros(n_perms)\n",
        "    count=0\n",
        "\n",
        "    for i in range(n_perms):\n",
        "      idx = np.random.permutation(M + N)\n",
        "      K_1_ = K_1[idx, idx[:, None]]\n",
        "      K = order2_from_order1(K_1_, kernel, M)\n",
        "      shuffled_tests[i] = MMD_K(K, M, N)\n",
        "\n",
        "    # Threshold of the null calculated and test is rejected if empirical MMD^{2} of the data\n",
        "    # is larger than the threshold\n",
        "    q = np.quantile(shuffled_tests, 1.0 - z_alpha)\n",
        "    rej = int(MMD_test > q)\n",
        "\n",
        "    if return_perm:\n",
        "      return rej, shuffled_tests\n",
        "    return rej, None"
      ],
      "execution_count": 7,
      "outputs": []
    },
    {
      "cell_type": "code",
      "metadata": {
        "id": "cNgndisuskcF"
      },
      "source": [
        "def two_sample_test1(X, Y, kernel, n_perms, z_alpha = 0.05, make_K = K_order1, return_perm=False, return_mmd=False):\n",
        "    \"\"\" wrapper for two_sample_test. We need a different perumation strategy for the second order MMD \"\"\"\n",
        "    \n",
        "    # Number of samples of each distribution is identified and kernel matrix formed\n",
        "    M = X.shape[0]\n",
        "    N = Y.shape[0]\n",
        "    K = make_K(X, Y, kernel)\n",
        "\n",
        "\n",
        "    # Empirical MMD^{2} calculated\n",
        "    MMD_test = MMD_K(K, M, N)\n",
        "    \n",
        "    if return_mmd:\n",
        "      return MMD_test\n",
        "    # For n_perms repeats the kernel matrix is shuffled and empirical MMD^{2} recomputed\n",
        "    # to simulate the null\n",
        "    shuffled_tests = np.zeros(n_perms)\n",
        "    count=0\n",
        "    for i in range(n_perms):\n",
        "      idx = np.random.permutation(M + N)\n",
        "      K_ = K[idx, idx[:, None]]\n",
        "      shuffled_tests[i] = MMD_K(K_, M, N)\n",
        "\n",
        "    # Threshold of the null calculated and test is rejected if empirical MMD^{2} of the data\n",
        "    # is larger than the threshold\n",
        "    q = np.quantile(shuffled_tests, 1.0 - z_alpha)\n",
        "    rej = int(MMD_test > q)\n",
        "\n",
        "    if return_perm:\n",
        "      return rej, shuffled_tests\n",
        "\n",
        "    return rej, None\n"
      ],
      "execution_count": 8,
      "outputs": []
    },
    {
      "cell_type": "markdown",
      "metadata": {
        "id": "7pMEDLzLIBvM"
      },
      "source": [
        "###Computes the power of the tests"
      ]
    },
    {
      "cell_type": "code",
      "metadata": {
        "id": "Tsb7T8MWsmpz"
      },
      "source": [
        "def power_test(X_samples, Y_samples, kernel, n_tests, n_perms, z_alpha = 0.05, make_K = K_order1, return_p = False, return_perm=False):\n",
        "    \"\"\"\n",
        "    Computes multiple two-sample tests and returns the rejection rate\n",
        "    \n",
        "    Parameters:\n",
        "    X_samples - (n_samples*n_tests,n_obs,d) array of samples from the first distribution \n",
        "    Y_samples - (n_samples*n_tests,n_obs,d) array of samples from the second distribution \n",
        "    kernel - bandwidth for the kernel\n",
        "    n_tests - number of tests to perform\n",
        "    n_perms - number of permutations performed when bootstrapping the null\n",
        "    z_alpha - rejection threshold of the test\n",
        "    make_K - function called to construct the kernel matrix used to compute the empirical MMD\n",
        "    return_p - option to return the p-value of the test\n",
        "    \n",
        "    Returns:\n",
        "    power - the rate of rejection of the null\n",
        "    \"\"\"\n",
        "    \n",
        "    # Number of samples of each distribution is identified\n",
        "    M = int(X_samples.shape[0]/n_tests)\n",
        "    N = int(Y_samples.shape[0]/n_tests)\n",
        "    rej = np.zeros(n_tests)\n",
        "    perms = np.zeros((n_tests, n_perms))\n",
        "    # For each test, extract the data to use and then perform the two-sample test\n",
        "    for t in tqdm(range(n_tests)):\n",
        "        X_t = X_samples[t*M:(t+1)*M, :]\n",
        "        Y_t = Y_samples[t*N:(t+1)*N, :]\n",
        "  \n",
        "        rej[t], shuffled_tests = two_sample_test(X_t, Y_t, kernel, n_perms, z_alpha = z_alpha, make_K = make_K, return_perm=return_perm)\n",
        "        if perms is not None:\n",
        "          perms[t]=shuffled_tests\n",
        "    \n",
        "    # Compute average rate of rejection\n",
        "    power = np.mean(rej)\n",
        "    \n",
        "    if not return_perm:\n",
        "      return power\n",
        "    else:\n",
        "      return power, perms"
      ],
      "execution_count": 9,
      "outputs": []
    },
    {
      "cell_type": "code",
      "metadata": {
        "id": "6s5h-X7UdObv"
      },
      "source": [
        "def hyper(X,Y, hyperparams=None, make_K=K_order1):\n",
        "    \n",
        "    # Number of samples of each distribution is identified\n",
        "    M = int(X.shape[0])\n",
        "    N = int(Y.shape[0])\n",
        "   \n",
        "    max = -100.\n",
        "    best = None\n",
        "    for i, param in enumerate(hyperparams):\n",
        "      \n",
        "      # create kernel\n",
        "      static_kernel = [sigkernel.RBFKernel(sigma=param[0],add_time=L-1), sigkernel.RBFKernel(sigma=param[1],add_time=L-1)]\n",
        "      signature_kernel = sigkernel.SigKernel(static_kernel, dyadic_order, _naive_solver)\n",
        "      signature_kernel.lambda_ = param[2]\n",
        "\n",
        "      # compute objective\n",
        "      K = make_K(X, Y, signature_kernel)\n",
        "\n",
        "      # Empirical MMD^{2} calculated\n",
        "      res = MMD_K(K, M, N, compute_var=True)\n",
        "      mmd_value_temp = (res[0] + 10 ** (-8))\n",
        "      mmd_std_temp = torch.sqrt(res[1] + 10 ** (-8))\n",
        "      \n",
        "      if mmd_std_temp == 0:\n",
        "          print('error!!')\n",
        "      if torch.isnan(mmd_std_temp):\n",
        "          print('error!!')\n",
        "      obj = mmd_value_temp / mmd_std_temp\n",
        "      if obj > max:\n",
        "        best = param\n",
        "        max = obj\n",
        "\n",
        "    return best"
      ],
      "execution_count": 10,
      "outputs": []
    },
    {
      "cell_type": "markdown",
      "metadata": {
        "id": "GbbMzpwGtKPH"
      },
      "source": [
        "###Generates data"
      ]
    },
    {
      "cell_type": "code",
      "metadata": {
        "id": "qJkuyKXFWYYx"
      },
      "source": [
        "def simul_null(repeats, n_samples,n, L=3, D=1):\n",
        "  X = np.zeros((repeats*n_samples, L, D)) \n",
        "  omega_1 = np.random.choice(a=[-1, 1], size=repeats*n_samples)\n",
        "  X[:, 2, 0] = 0.1*omega_1\n",
        "  return X\n",
        "\n",
        "def simul_alternative(repeats, n_samples,n, L=3, D=1):\n",
        "  X_n = np.zeros((repeats*n_samples, L, D))\n",
        "  omega_1 = np.random.choice(a=[-1, 1], size=repeats*n_samples)\n",
        "  omega_2 = np.random.choice(a=[-1, 1], size=repeats*n_samples)\n",
        "  X_n[:, 1, 0] = omega_1*1./n\n",
        "  X_n[:, 2, 0] = 0.1*omega_1\n",
        "  return X_n"
      ],
      "execution_count": 11,
      "outputs": []
    },
    {
      "cell_type": "markdown",
      "metadata": {
        "id": "UeYWDOfDvuQt"
      },
      "source": [
        "###Experiment"
      ]
    },
    {
      "cell_type": "code",
      "metadata": {
        "id": "Ja6Uzf_pwFub"
      },
      "source": [
        "# Parameters for the two sample test\n",
        "n_tests = 100\n",
        "n_perms = 100\n",
        "M = 100  \n",
        "N = M\n",
        "L = 3\n",
        "n_arr = [1e5, 2*1e5, 3*1e5, 5*1e5]  "
      ],
      "execution_count": 16,
      "outputs": []
    },
    {
      "cell_type": "code",
      "metadata": {
        "id": "Ro0Ivu1Wcw2f"
      },
      "source": [
        "# Set fixed hyperparameters for the signature kernel\n",
        "dyadic_order = [2,1]\n",
        "_naive_solver=False"
      ],
      "execution_count": 17,
      "outputs": []
    },
    {
      "cell_type": "code",
      "metadata": {
        "id": "MxGbF6x6vtol"
      },
      "source": [
        "# To store the results for the MMD-1 and the MMD-2\n",
        "powers_1 = np.zeros(len(n_arr))\n",
        "powers_2 = np.zeros(len(n_arr))\n",
        "\n",
        "power = True \n",
        "\n",
        "# performs two sample test for different values of n\n",
        "for i in tqdm(range(len(n_arr))):\n",
        "    n = n_arr[i]  \n",
        "    print('Experiment with n={}'.format(n))\n",
        "\n",
        "    \"\"\"Chose hyperparameters\"\"\"\n",
        "\n",
        "    # Generate an empirical distributions under the null\n",
        "    X = simul_null(1, M, n, L=3, D=1)\n",
        "    X = torch.tensor(X, dtype=torch.float64).cuda()\n",
        "    \n",
        "    if power:\n",
        "      # Generate an empirical distributions under the alternative\n",
        "      Y = simul_alternative(1, M, n, L=3, D=1)\n",
        "    else:\n",
        "      Y = simul_null(1, M, n, L=3, D=1)\n",
        "\n",
        "    Y = torch.tensor(Y, dtype=torch.float64).cuda()\n",
        "\n",
        "    # For the grid search over kernel hyperparameters\n",
        "    p1 = list(itertools.product([1e-9,1e-8,1e-7,0.5*1e-6,1e-6,0.5*1e-5,1e-5,0.5*1e-4,1e-4,0.5*1e-3,1e-3,1e-2,1e-1,1,1e1,1e2],[1.],[1.]))\n",
        "    p2 = list(itertools.product([1e-9,1e-8,1e-7,1e-6,1e-5,1e-4,1e-3,1e-2,1e-1,1,1e1,1e2],[0.01,0.1,1,2,10],[1e-2,1e-3,1e-4,1e-5]))\n",
        "\n",
        "    param1 = hyper(X, Y, p1, make_K = K_order1)\n",
        "    sigma1 = param1[0]\n",
        "    print('Optimal hyperparameters for MMD-1 sigma={}'.format(sigma1))\n",
        "   \n",
        "    # sigma1 = 1\n",
        "    sigma1_ , sigma2_, lambda_ = hyper(X, Y, p2, make_K = K_order2)\n",
        "    print('Optimal hyperparameters for MMD-2 sigma1={}, sigma2={}, lambda={}'.format(sigma1_, sigma2_, lambda_))\n",
        "    # sigma1_ , sigma2_, lambda_ = 1e-5,2,1e-3\n",
        "\n",
        "    \"\"\"Set hyperparameters\"\"\"\n",
        "\n",
        "    # For MMD-1\n",
        "    static_kernel = sigkernel.RBFKernel(sigma=sigma1, add_time=L-1)\n",
        "    kernel_1 = sigkernel.SigKernel(static_kernel, dyadic_order, _naive_solver)\n",
        "\n",
        "    # For MMD-2\n",
        "    static_kernel = [sigkernel.RBFKernel(sigma=sigma1_, add_time=L-1), sigkernel.RBFKernel(sigma=sigma2_, add_time=L-1)]\n",
        "    kernel_2 = sigkernel.SigKernel(static_kernel, dyadic_order, _naive_solver)\n",
        "    kernel_2.lambda_ = lambda_\n",
        "    \n",
        "    \"\"\"Perform the test\"\"\"\n",
        "    # generate n_tests empirical distributions under the null\n",
        "    X = simul_null(n_tests, M, n, L=3, D=1)\n",
        "    X = torch.tensor(X, dtype=torch.float64).cuda()\n",
        "\n",
        "    \n",
        "    if power:\n",
        "      # generate n_tests empirical distributions under the alternative\n",
        "      Y = simul_alternative(n_tests, M, n, L=3, D=1)\n",
        "    else:\n",
        "      Y = simul_null(n_tests, M, n, L=3, D=1)\n",
        "\n",
        "    Y = torch.tensor(Y, dtype=torch.float64).cuda()\n",
        "\n",
        "    powers_1[i] = power_test(X, Y, kernel_1, n_tests, n_perms, make_K = K_order1)\n",
        "    powers_2[i] = power_test(X, Y, kernel_2, n_tests, n_perms, make_K = K_order2)\n",
        " "
      ],
      "execution_count": null,
      "outputs": []
    },
    {
      "cell_type": "code",
      "metadata": {
        "colab": {
          "base_uri": "https://localhost:8080/",
          "height": 353
        },
        "id": "2OSrKSGhw04C",
        "outputId": "78dabdff-779f-4485-d0cc-9bddb1bcbdaa"
      },
      "source": [
        "plt.plot(n_arr, powers_1, label='order 1', marker='*', markersize=10, linewidth=2)\n",
        "plt.plot(n_arr, powers_2, label='order 2', marker='o', markersize=10, linewidth=2)\n",
        "plt.xlabel('n')\n",
        "plt.ylabel('Power', labelpad=15)\n",
        "plt.ticklabel_format(axis=\"x\", style=\"sci\", scilimits=(0,0))\n",
        "plt.legend()\n",
        "# plt.savefig('Power_tex.pdf',bbox_inches='tight')\n",
        "plt.show()"
      ],
      "execution_count": 18,
      "outputs": [
        {
          "output_type": "display_data",
          "data": {
            "image/png": "[encoded data removed]",
            "text/plain": [
              "<Figure size 504x360 with 1 Axes>"
            ]
          },
          "metadata": {
            "needs_background": "light"
          }
        }
      ]
    }
  ]
}