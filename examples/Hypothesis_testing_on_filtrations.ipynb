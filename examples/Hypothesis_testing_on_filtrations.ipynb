{
  "nbformat": 4,
  "nbformat_minor": 0,
  "metadata": {
    "colab": {
      "name": "hypothesis_test.ipynb",
      "provenance": [],
      "collapsed_sections": []
    },
    "kernelspec": {
      "name": "python3",
      "display_name": "Python 3"
    },
    "language_info": {
      "name": "python"
    },
    "accelerator": "GPU"
  },
  "cells": [
    {
      "cell_type": "code",
      "metadata": {
        "id": "NIb1iOVzqqGl"
      },
      "source": [
        "import torch\n",
        "import time\n",
        "import numpy as np\n",
        "import sys\n",
        "sys.path.append('src')\n",
        "import sigkernel\n",
        "import matplotlib.pyplot as plt\n",
        "from sigkernel.transformers import AddTime\n",
        "import seaborn as sns\n",
        "\n",
        "# Using seaborn's style\n",
        "plt.style.use('seaborn-colorblind')\n",
        "width = 345\n",
        "tex_fonts = {\n",
        "    \"text.usetex\": False,\n",
        "    \"font.family\": \"serif\",\n",
        "    \"axes.labelsize\": 24,\n",
        "    \"font.size\": 22,\n",
        "    \"legend.fontsize\": 24,\n",
        "    \"xtick.labelsize\": 20,\n",
        "    \"ytick.labelsize\": 20,\n",
        "    'figure.figsize': (7, 5),\n",
        "}\n",
        "plt.rcParams.update(tex_fonts)"
      ],
      "execution_count": 2,
      "outputs": []
    },
    {
      "cell_type": "code",
      "metadata": {
        "id": "tf5wTcaZqvzz"
      },
      "source": [
        "# number of path coordinates and number of time steps\n",
        "D, L = 1, 3 \n",
        "\n",
        "# experimental setup\n",
        "repeats, n_samples, n, lambda_ = 100, 500, 1e5, 1e-3\n",
        "\n",
        "MMD_0 = np.zeros((repeats,2))\n",
        "MMD_1 = np.zeros((repeats,2))\n",
        "\n",
        "# to store the sample paths from X_n and X\n",
        "X = np.zeros((repeats,n_samples,2,L,D)) \n",
        "X_n = np.zeros((repeats,n_samples,2,L,D))   \n",
        "\n",
        "# sample from X_n \n",
        "omega_1 = np.random.choice(a=[-1, 1],size=(repeats, n_samples,2))\n",
        "omega_2 = np.random.choice(a=[-1, 1],size=(repeats, n_samples,2))\n",
        "X_n[:,:,:,1,0] = omega_1*1./n\n",
        "X_n[:,:,:,2,0] = 0.1*omega_1\n",
        "\n",
        "# sample from X\n",
        "omega_1 = np.random.choice(a=[-1, 1],size=(repeats, n_samples,2))\n",
        "X[:,:,:,2,0] = 0.1*omega_1"
      ],
      "execution_count": 17,
      "outputs": []
    },
    {
      "cell_type": "code",
      "metadata": {
        "id": "zT4BYWEzqsvg"
      },
      "source": [
        "# setup the signature kernel\n",
        "\n",
        "dyadic_order = 2\n",
        "dyadic_order_1 = 1\n",
        "\n",
        "_naive_solver=False\n",
        "\n",
        "static_kernel = sigkernel.RBFKernel(sigma=1e-5,add_time=L-1)\n",
        "static_kernel_1 = sigkernel.RBFKernel(sigma=2.,add_time=L-1)\n",
        "\n",
        "signature_kernel = sigkernel.SigKernel(static_kernel, dyadic_order, _naive_solver, static_kernel_1, dyadic_order_1)"
      ],
      "execution_count": 18,
      "outputs": []
    },
    {
      "cell_type": "code",
      "metadata": {
        "id": "V_MLLHEyqx4y"
      },
      "source": [
        "# run the experiment\n",
        "for i in range(repeats):\n",
        "    x0 = torch.tensor(X[i,:,0,:,:], dtype=torch.float64).cuda()     # X of shape (repeats,n_samples,2,L,D)\n",
        "    x0_ = torch.tensor(X[i,:,1,:,:], dtype=torch.float64).cuda()    # independent copy of X\n",
        "    xn = torch.tensor(X_n[i,:,0,:,:], dtype=torch.float64).cuda()\n",
        "    xn_ = torch.tensor(X_n[i,:,1,:,:], dtype=torch.float64).cuda()  # independent copy of X_n\n",
        "\n",
        "    MMD_1[i,0] = signature_kernel.compute_mmd_rank_1(x0,x0_,lambda_, estimator='ub') \n",
        "    MMD_1[i,1] = signature_kernel.compute_mmd_rank_1(xn,x0,lambda_, estimator='ub')  \n",
        "    \n",
        "    MMD_0[i,0] = signature_kernel.compute_mmd(x0,x0_, estimator='ub')\n",
        "    MMD_0[i,1] = signature_kernel.compute_mmd(xn,x0,estimator='ub')"
      ],
      "execution_count": 19,
      "outputs": []
    },
    {
      "cell_type": "code",
      "metadata": {
        "id": "DDwQb_ZRMsl_"
      },
      "source": [
        "# for i in range(50):\n",
        "#   plt.plot(X[0,i,0,:,0],c='b',alpha=0.5)\n",
        "#   plt.plot(X_n[0,i,0,:,0],c='r',alpha=0.5)\n",
        "# plt.show()"
      ],
      "execution_count": null,
      "outputs": []
    },
    {
      "cell_type": "code",
      "metadata": {
        "colab": {
          "base_uri": "https://localhost:8080/",
          "height": 233
        },
        "id": "mZ4ygu7FM_eu",
        "outputId": "de52ecce-bac4-42e1-8e2c-39e06dea4110"
      },
      "source": [
        "fig, ax = plt.subplots(1,2,figsize=(15,5))\n",
        "\n",
        "\n",
        "ax[0].hist(MMD_0[:,0], bins=100, label=r'$\\mathcal{H}_0$',edgecolor='#E6E6E6')\n",
        "ax[0].hist(MMD_0[:,1], bins=100,label=r'$\\mathcal{H}_A$',edgecolor='#E6E6E6')\n",
        "\n",
        "ax[0].legend(loc='upper right',ncol=2,fontsize=22)\n",
        "ax[0].set_xlabel(r'$\\mathcal{D}^1_{\\mathcal{S}}(X,Y)^2$',labelpad=10)\n",
        "ax[0].set_ylabel('Count',labelpad=10)\n",
        "\n",
        "ax[1].hist(MMD_1[:,0], bins=25, label=r'$\\mathcal{H}_0$',edgecolor='#E6E6E6')\n",
        "ax[1].hist(MMD_1[:,1], bins=25,label=r'$\\mathcal{H}_A$',edgecolor='#E6E6E6')\n",
        "\n",
        "ax[1].legend(loc='upper right',ncol=2,fontsize=22)\n",
        "ax[1].set_xlabel(r'$\\mathcal{D}^2_{\\mathcal{S}}(X,Y)^2$',labelpad=10)\n",
        "ax[1].set_ylabel('Count',labelpad=10)\n",
        "\n",
        "plt.tight_layout(pad=3.0)\n",
        "# plt.savefig('MMD_binary.pdf',bbox_inches='tight')\n",
        "plt.show()"
      ],
      "execution_count": 20,
      "outputs": [
        {
          "output_type": "display_data",
          "data": {
            "image/png": "[encoded data removed]",
            "text/plain": [
              "<Figure size 1080x360 with 2 Axes>"
            ]
          },
          "metadata": {
            "tags": [],
            "needs_background": "light"
          }
        }
      ]
    }
  ]
}