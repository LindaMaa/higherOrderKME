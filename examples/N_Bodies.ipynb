{
  "nbformat": 4,
  "nbformat_minor": 0,
  "metadata": {
    "colab": {
      "name": "Untitled7.ipynb",
      "provenance": [],
      "collapsed_sections": []
    },
    "kernelspec": {
      "name": "python3",
      "display_name": "Python 3"
    },
    "language_info": {
      "name": "python"
    },
    "accelerator": "GPU"
  },
  "cells": [
    {
      "cell_type": "markdown",
      "metadata": {
        "id": "7xg5FutVG6tU"
      },
      "source": [
        "**Install packages**"
      ]
    },
    {
      "cell_type": "code",
      "metadata": {
        "id": "KyiQCmCxDJCM"
      },
      "source": [
        "!git clone https://github.com/maudl3116/CondSigKME.git"
      ],
      "execution_count": null,
      "outputs": []
    },
    {
      "cell_type": "code",
      "metadata": {
        "id": "huBzMZZ3EFne"
      },
      "source": [
        "%cd CondSigKME"
      ],
      "execution_count": null,
      "outputs": []
    },
    {
      "cell_type": "code",
      "metadata": {
        "id": "QqlwzCbkEImU"
      },
      "source": [
        "!pip install -r requirements.txt"
      ],
      "execution_count": null,
      "outputs": []
    },
    {
      "cell_type": "code",
      "metadata": {
        "id": "av-D6Zq0GiVS"
      },
      "source": [
        "!pip install git+https://github.com/maudl3116/sigkernel.git"
      ],
      "execution_count": null,
      "outputs": []
    },
    {
      "cell_type": "markdown",
      "metadata": {
        "id": "JGeYfy2_G24p"
      },
      "source": [
        "**Generate one dataset**"
      ]
    },
    {
      "cell_type": "code",
      "metadata": {
        "id": "PmqhNSbNDPz5"
      },
      "source": [
        "%cd n_vcn_utils"
      ],
      "execution_count": null,
      "outputs": []
    },
    {
      "cell_type": "code",
      "metadata": {
        "id": "rjwC4cXgDyCb"
      },
      "source": [
        "!sh dataset.sh"
      ],
      "execution_count": null,
      "outputs": []
    },
    {
      "cell_type": "markdown",
      "metadata": {
        "id": "Kh4FDBQJHXZf"
      },
      "source": [
        "**Run one toy experiment**"
      ]
    },
    {
      "cell_type": "code",
      "metadata": {
        "id": "iFP2y-ZGHc9d"
      },
      "source": [
        "%cd ../"
      ],
      "execution_count": null,
      "outputs": []
    },
    {
      "cell_type": "code",
      "metadata": {
        "id": "LBOgOy3_HV_1"
      },
      "source": [
        "import os\n",
        "import numpy as np\n",
        "import matplotlib.pyplot as plt\n",
        "from n_vcn_utils.utils import load_data\n",
        "from src.SigKPC.pcskeleton import skeleton"
      ],
      "execution_count": 12,
      "outputs": []
    },
    {
      "cell_type": "markdown",
      "metadata": {
        "id": "Ji7J8aLmIIYN"
      },
      "source": [
        "get the ground truth graph"
      ]
    },
    {
      "cell_type": "code",
      "metadata": {
        "id": "WjigSujOHe7U"
      },
      "source": [
        "nball = 5\n",
        "\n",
        "# load information about the dataset\n",
        "data_names = ['attrs', 'states', 'actions', 'rels']\n",
        "stat_path = os.path.join('n_vcn_utils/data/data_Ball/valid/', '0.h5')\n",
        "metadata = load_data(data_names, stat_path)\n",
        "edge_type = metadata[data_names.index('rels')][0, :, 0].astype(np.int)\n",
        "\n",
        "# get the ground truth graph\n",
        "ground_truth = np.zeros((nball,nball))\n",
        "cnt = 0\n",
        "for i in range(nball):\n",
        "    for j in range(i):\n",
        "        ground_truth[i,j] = edge_type[cnt]\n",
        "        ground_truth[j,i] = edge_type[cnt]\n",
        "        cnt+=1\n",
        "# np.argwhere(ground_truth==1)"
      ],
      "execution_count": null,
      "outputs": []
    },
    {
      "cell_type": "code",
      "metadata": {
        "id": "L-uYB_8HHoL2"
      },
      "source": [
        "n_repeat = 50  # number of times the n bodies are simulated \n",
        "dataset = []\n",
        "for i in range(n_repeat):\n",
        "    stat_path = os.path.join('n_vcn_utils/data/data_Ball/valid/', '{}.h5'.format(i))\n",
        "    metadata = load_data(data_names, stat_path)\n",
        "    data = metadata[data_names.index('states')][:20,:,:2]  # (time,nball,4)\n",
        "    data = data.transpose(1,0,2) # (nball, time, dim)\n",
        "    dataset.append(data[:,None,:,:]) # (nball, M, time, dim)"
      ],
      "execution_count": 4,
      "outputs": []
    },
    {
      "cell_type": "code",
      "metadata": {
        "id": "yEFPZG7yHtvs"
      },
      "source": [
        "data_= np.concatenate(dataset, axis=1)"
      ],
      "execution_count": 5,
      "outputs": []
    },
    {
      "cell_type": "code",
      "metadata": {
        "id": "WRQ6VaSGH0UB"
      },
      "source": [
        "graph = skeleton(data_*0.01, alpha=0.5, test= False, p=nball, maxi=1, fixedGaps=None, eps=0.01, dyadic_order=2, static='rbf', sigma=10.)"
      ],
      "execution_count": null,
      "outputs": []
    },
    {
      "cell_type": "code",
      "metadata": {
        "id": "BqfQQ6VHH6Ih"
      },
      "source": [
        "pval = graph[2].copy()\n",
        "print('matrix of hsic scores \\n',pval)\n",
        "# print(graph[0])\n",
        "print('\\n ground truth graph \\n',ground_truth)"
      ],
      "execution_count": null,
      "outputs": []
    },
    {
      "cell_type": "code",
      "metadata": {
        "colab": {
          "base_uri": "https://localhost:8080/"
        },
        "id": "ZoLpy37eIAFg",
        "outputId": "32a1e91d-af03-4c49-d077-402e1fbe2795"
      },
      "source": [
        "alpha = 0.6  # the lower the alpha, the more edges \n",
        "\n",
        "edge = np.zeros(nball*(nball-1)//2)\n",
        "cnt = 0\n",
        "for i in range(nball):\n",
        "    for j in range(i):\n",
        "        if pval[i,j]<alpha:\n",
        "            edge[cnt]=0\n",
        "        else:\n",
        "            edge[cnt]=1\n",
        "        cnt+=1\n",
        "print('us',edge.astype(int))\n",
        "print('gt',edge_type)\n",
        "print('correct fraction', np.mean(edge.astype(int)==edge_type))"
      ],
      "execution_count": 9,
      "outputs": [
        {
          "output_type": "stream",
          "text": [
            "us [1 1 1 1 0 0 1 1 1 0]\n",
            "gt [1 1 1 1 0 0 1 1 1 0]\n",
            "correct fraction 1.0\n"
          ],
          "name": "stdout"
        }
      ]
    },
    {
      "cell_type": "markdown",
      "metadata": {
        "id": "_VaF7W9yRnEB"
      },
      "source": [
        "**Plot n-bodies**"
      ]
    },
    {
      "cell_type": "code",
      "metadata": {
        "id": "NMa_px-3RlKg"
      },
      "source": [
        "from matplotlib.collections import PatchCollection\n",
        "from matplotlib.patches import Rectangle, Circle, Polygon"
      ],
      "execution_count": 24,
      "outputs": []
    },
    {
      "cell_type": "code",
      "metadata": {
        "colab": {
          "base_uri": "https://localhost:8080/",
          "height": 225
        },
        "id": "WeuDPznjJrTJ",
        "outputId": "3c630776-d844-4d77-b163-5687567dee51"
      },
      "source": [
        "metadata = load_data(data_names, stat_path)\n",
        "data = metadata[data_names.index('states')]   # (time,nball,4)\n",
        "\n",
        "time_step = 4\n",
        "\n",
        "c = ['royalblue', 'tomato', 'limegreen', 'orange', 'violet', 'chocolate', 'black', 'crimson']\n",
        "fig, ax = plt.subplots(1)\n",
        "lim=(-80, 80, -80, 80)\n",
        "plt.xlim(lim[0], lim[1])\n",
        "plt.ylim(lim[2], lim[3])\n",
        "plt.axis('off')\n",
        "\n",
        "fig.set_size_inches(3, 3)\n",
        "\n",
        "cnt = 0\n",
        "for x in range(nball):\n",
        "    for y in range(x):\n",
        "        rel_type = int(edge_type[cnt]); cnt += 1\n",
        "        if rel_type == 0:\n",
        "            continue\n",
        "\n",
        "        plt.plot([data[time_step, x, 0], data[time_step, y, 0]],\n",
        "                  [data[time_step, x, 1], data[time_step, y, 1]],\n",
        "                  '-', color='k', lw=1, alpha=0.5)\n",
        "\n",
        "circles = []\n",
        "circles_color = []\n",
        "for j in range(nball):\n",
        "    circle = Circle((data[time_step, j, 0], data[time_step, j, 1]), radius=10)\n",
        "    circles.append(circle)\n",
        "    circles_color.append(c[j % len(c)])\n",
        "\n",
        "\n",
        "pc = PatchCollection(circles, facecolor=circles_color, linewidth=1)\n",
        "ax.add_collection(pc)\n",
        "\n",
        "ax.set_xticklabels([])\n",
        "ax.set_yticklabels([])\n",
        "ax.set_aspect('equal')\n",
        "plt.tight_layout()\n",
        "plt.show()"
      ],
      "execution_count": 31,
      "outputs": [
        {
          "output_type": "display_data",
          "data": {
            "image/png": "[encoded data removed]",
            "text/plain": [
              "<Figure size 216x216 with 1 Axes>"
            ]
          },
          "metadata": {
            "tags": [],
            "needs_background": "light"
          }
        }
      ]
    }
  ]
}