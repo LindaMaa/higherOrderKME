{
  "nbformat": 4,
  "nbformat_minor": 0,
  "metadata": {
    "colab": {
      "name": "Higher_order_DR.ipynb",
      "provenance": [],
      "collapsed_sections": [],
      "machine_shape": "hm",
      "mount_file_id": "1dWQCIn3e7M6bQ839mchbCLhaIe4VTjvy",
      "authorship_tag": "ABX9TyPPC/cAn3lZil2utJPTMI1B",
      "include_colab_link": true
    },
    "kernelspec": {
      "name": "python3",
      "display_name": "Python 3"
    },
    "language_info": {
      "name": "python"
    },
    "accelerator": "GPU"
  },
  "cells": [
    {
      "cell_type": "markdown",
      "metadata": {
        "id": "view-in-github",
        "colab_type": "text"
      },
      "source": [
        "<a href=\"https://colab.research.google.com/github/maudl3116/higherOrderKME/blob/main/examples/Higher_order_DR.ipynb\" target=\"_parent\"><img src=\"https://colab.research.google.com/assets/colab-badge.svg\" alt=\"Open In Colab\"/></a>"
      ]
    },
    {
      "cell_type": "markdown",
      "metadata": {
        "id": "yMsDOeHYrLym"
      },
      "source": [
        "# Optimal stopping time\n",
        "Sec. 4.2 in [paper](https://arxiv.org/pdf/2109.03582.pdf)\n",
        "***"
      ]
    },
    {
      "cell_type": "markdown",
      "metadata": {
        "id": "NEjBsqe_mY0N"
      },
      "source": [
        "First we install the higherOrderKME package"
      ]
    },
    {
      "cell_type": "code",
      "metadata": {
        "id": "2x0dPjAsmC9Q"
      },
      "source": [
        "!pip install git+https://github.com/maudl3116/higherOrderKME.git"
      ],
      "execution_count": null,
      "outputs": []
    },
    {
      "cell_type": "markdown",
      "metadata": {
        "id": "2BAMeI9bmfuE"
      },
      "source": [
        "Here we also need to clone the repository to access the data simulator for this experiment"
      ]
    },
    {
      "cell_type": "code",
      "metadata": {
        "id": "hzffjmvkmI1P"
      },
      "source": [
        "!git clone https://github.com/maudl3116/higherOrderKME.git"
      ],
      "execution_count": null,
      "outputs": []
    },
    {
      "cell_type": "code",
      "metadata": {
        "colab": {
          "base_uri": "https://localhost:8080/"
        },
        "id": "9aGYJWeCmNhB",
        "outputId": "8efd5084-cb06-4749-dea1-6baebc63afda"
      },
      "source": [
        "%cd higherOrderKME"
      ],
      "execution_count": 1,
      "outputs": [
        {
          "output_type": "stream",
          "name": "stdout",
          "text": [
            "/content/higherOrderKME\n"
          ]
        }
      ]
    },
    {
      "cell_type": "markdown",
      "metadata": {
        "id": "V_zU5z2fmrjS"
      },
      "source": [
        "Finally we install specific Python libraries for this experiment"
      ]
    },
    {
      "cell_type": "code",
      "metadata": {
        "id": "D6C6n6psmNG3"
      },
      "source": [
        "!pip install -r examples/requirements.txt"
      ],
      "execution_count": null,
      "outputs": []
    },
    {
      "cell_type": "markdown",
      "metadata": {
        "id": "NuXHiaq2m_J-"
      },
      "source": [
        "Now we generate some data"
      ]
    },
    {
      "cell_type": "code",
      "metadata": {
        "id": "SYNdviWOoAbx"
      },
      "source": [
        "import pandas as pd\n",
        "import pickle"
      ],
      "execution_count": 2,
      "outputs": []
    },
    {
      "cell_type": "code",
      "metadata": {
        "colab": {
          "base_uri": "https://localhost:8080/"
        },
        "id": "tsSYSLUal8M3",
        "outputId": "fe4060d5-9a98-430e-af84-f435f55e7c17"
      },
      "source": [
        "%cd data/options_utils"
      ],
      "execution_count": 3,
      "outputs": [
        {
          "output_type": "stream",
          "name": "stdout",
          "text": [
            "/content/higherOrderKME/data/options_utils\n"
          ]
        }
      ]
    },
    {
      "cell_type": "markdown",
      "metadata": {
        "id": "SIoGbBRT_EW1"
      },
      "source": [
        "**Generate new input-output pairs**"
      ]
    },
    {
      "cell_type": "code",
      "metadata": {
        "id": "u69Py0RDl-ty"
      },
      "source": [
        "# !pip install --no-cache-dir -e ."
      ],
      "execution_count": null,
      "outputs": []
    },
    {
      "cell_type": "markdown",
      "metadata": {
        "id": "v_veACkJnP-i"
      },
      "source": [
        "We start by generating the prices (output)"
      ]
    },
    {
      "cell_type": "code",
      "metadata": {
        "id": "64hd78ibnC_o"
      },
      "source": [
        "# !python optimal_stopping/run/run_algo.py --configs=config1_prices --nb_jobs=2;"
      ],
      "execution_count": null,
      "outputs": []
    },
    {
      "cell_type": "markdown",
      "metadata": {
        "id": "TZU_SISmnavY"
      },
      "source": [
        "Then we generate the sample paths (input)"
      ]
    },
    {
      "cell_type": "code",
      "metadata": {
        "id": "QsnK3QYXnYOw"
      },
      "source": [
        "# !python optimal_stopping/run/generate_paths.py --configs=config1_paths --nb_jobs=2;"
      ],
      "execution_count": null,
      "outputs": []
    },
    {
      "cell_type": "code",
      "metadata": {
        "id": "kCXbVDkLnm8V"
      },
      "source": [
        "# df_ = pd.read_csv('output/metrics_draft/config1_prices.csv')\n",
        "# df = df_[['hurst','price']]\n",
        "# prices = df.groupby('hurst', as_index=False)['price'].mean()\n",
        "# paths  = pickle.load(open('output/metrics_draft/config1_paths.obj','rb'))"
      ],
      "execution_count": 4,
      "outputs": []
    },
    {
      "cell_type": "markdown",
      "metadata": {
        "id": "WpnI8Dys_Bn7"
      },
      "source": [
        "**Alternatively load existing data**"
      ]
    },
    {
      "cell_type": "code",
      "metadata": {
        "id": "HIGQopPx_B60"
      },
      "source": [
        "data = pickle.load(open('../data_optimal_stopping.obj','rb'))\n",
        "prices, paths = data['prices'], data['paths']"
      ],
      "execution_count": 4,
      "outputs": []
    },
    {
      "cell_type": "markdown",
      "metadata": {
        "id": "HinpXi7OoEUo"
      },
      "source": [
        "Imports"
      ]
    },
    {
      "cell_type": "code",
      "metadata": {
        "colab": {
          "base_uri": "https://localhost:8080/"
        },
        "id": "9kqam47DoLLl",
        "outputId": "beb7bda2-19e8-4e03-cb2d-d339299aef0b"
      },
      "source": [
        "%cd ../../"
      ],
      "execution_count": 5,
      "outputs": [
        {
          "output_type": "stream",
          "name": "stdout",
          "text": [
            "/content/higherOrderKME\n"
          ]
        }
      ]
    },
    {
      "cell_type": "code",
      "metadata": {
        "id": "low77FQZl6Zz"
      },
      "source": [
        "from higherOrderKME.KES import model\n",
        "from higherOrderKME.DR_RBF import model as model_RBF\n",
        "from higherOrderKME.DR_matern import model as model_mat"
      ],
      "execution_count": 6,
      "outputs": []
    },
    {
      "cell_type": "markdown",
      "metadata": {
        "id": "dnG5sGxuplWP"
      },
      "source": [
        "**Run RBF baseline**"
      ]
    },
    {
      "cell_type": "code",
      "metadata": {
        "colab": {
          "base_uri": "https://localhost:8080/"
        },
        "id": "dOKl5Vq0phne",
        "outputId": "e9fc0260-e6b3-476a-d0e7-4d3a9c1b66b9"
      },
      "source": [
        "scores, stdv, results = model_RBF(paths, prices['price'].to_numpy(), at=True, ll=None, \n",
        "                                 cv=3, mode='krr', NUM_TRIALS=3)"
      ],
      "execution_count": 7,
      "outputs": [
        {
          "output_type": "stream",
          "name": "stderr",
          "text": [
            "100%|██████████| 3/3 [03:54<00:00, 78.03s/it]\n"
          ]
        }
      ]
    },
    {
      "cell_type": "code",
      "metadata": {
        "colab": {
          "base_uri": "https://localhost:8080/"
        },
        "id": "yW28_55qponH",
        "outputId": "19e46c2d-8a20-4f61-84d1-e4fe6bfb75dd"
      },
      "source": [
        "print('RBF', scores,stdv)"
      ],
      "execution_count": 8,
      "outputs": [
        {
          "output_type": "stream",
          "name": "stdout",
          "text": [
            "RBF 0.0010070803628937787 0.0007484485197370775\n"
          ]
        }
      ]
    },
    {
      "cell_type": "markdown",
      "metadata": {
        "id": "r0-FgB9apsgT"
      },
      "source": [
        "**Run Matern baseline**"
      ]
    },
    {
      "cell_type": "code",
      "metadata": {
        "colab": {
          "base_uri": "https://localhost:8080/"
        },
        "id": "Qdruqi27pt7t",
        "outputId": "4565c987-76f6-4b50-a457-44012315eab4"
      },
      "source": [
        "scores, stdv, results = model_mat(paths, prices['price'].to_numpy(), at=True, ll=None, \n",
        "                                 cv=3, mode='krr', NUM_TRIALS=3)"
      ],
      "execution_count": 9,
      "outputs": [
        {
          "output_type": "stream",
          "name": "stderr",
          "text": [
            "\r  0%|          | 0/3 [00:00<?, ?it/s]/usr/local/lib/python3.7/dist-packages/joblib/externals/loky/process_executor.py:691: UserWarning: A worker stopped while some jobs were given to the executor. This can be caused by a too short worker timeout or by a memory leak.\n",
            "  \"timeout or by a memory leak.\", UserWarning\n",
            "100%|██████████| 3/3 [04:42<00:00, 94.21s/it]\n"
          ]
        }
      ]
    },
    {
      "cell_type": "code",
      "metadata": {
        "colab": {
          "base_uri": "https://localhost:8080/"
        },
        "id": "oijWf8Lip1VT",
        "outputId": "01d0cbf8-3045-4916-da28-358ba6a40650"
      },
      "source": [
        "print('Matern', scores, stdv)"
      ],
      "execution_count": 10,
      "outputs": [
        {
          "output_type": "stream",
          "name": "stdout",
          "text": [
            "Matern 0.0027480169133565096 0.0030575108330338154\n"
          ]
        }
      ]
    },
    {
      "cell_type": "markdown",
      "metadata": {
        "id": "oYpeumYbp3ql"
      },
      "source": [
        "**Run K_S^1 baseline** "
      ]
    },
    {
      "cell_type": "code",
      "metadata": {
        "colab": {
          "base_uri": "https://localhost:8080/"
        },
        "id": "8navhbz-p-et",
        "outputId": "829bfe70-7794-40e3-90c5-74988440b0c8"
      },
      "source": [
        "alphas1 = [0.1,1,10]\n",
        "alphas2 = [1] # there is no alphas2 for MMD1\n",
        "lambdas = [1] # there is no lambdas for MMD1\n",
        "\n",
        "scores, stdv, results, _, _, _ = model(paths, prices['price'].to_numpy(),\n",
        "                                      order=1, alphas1=alphas1, alphas2=alphas2, \n",
        "                                      lambdas=lambdas, at=True, ll=None, cv=3, \n",
        "                                      mode='krr', num_trials=3)"
      ],
      "execution_count": 11,
      "outputs": [
        {
          "output_type": "stream",
          "name": "stderr",
          "text": [
            "100%|██████████| 24/24 [01:18<00:00,  3.29s/it]\n",
            "100%|██████████| 24/24 [01:09<00:00,  2.88s/it]\n",
            "100%|██████████| 24/24 [01:09<00:00,  2.88s/it]\n",
            " 33%|███▎      | 1/3 [00:01<00:02,  1.03s/it]"
          ]
        },
        {
          "output_type": "stream",
          "name": "stdout",
          "text": [
            "best scaling parameter (cv on the train set):  (1, 1, 1)\n",
            "best mse score (cv on the train set):  0.002824595069719927\n"
          ]
        },
        {
          "output_type": "stream",
          "name": "stderr",
          "text": [
            "\r 67%|██████▋   | 2/3 [00:01<00:00,  1.51it/s]"
          ]
        },
        {
          "output_type": "stream",
          "name": "stdout",
          "text": [
            "best scaling parameter (cv on the train set):  (1, 1, 1)\n",
            "best mse score (cv on the train set):  0.0012808826562819933\n"
          ]
        },
        {
          "output_type": "stream",
          "name": "stderr",
          "text": [
            "100%|██████████| 3/3 [00:01<00:00,  1.61it/s]"
          ]
        },
        {
          "output_type": "stream",
          "name": "stdout",
          "text": [
            "best scaling parameter (cv on the train set):  (1, 1, 1)\n",
            "best mse score (cv on the train set):  0.0010517265074348801\n"
          ]
        },
        {
          "output_type": "stream",
          "name": "stderr",
          "text": [
            "\n"
          ]
        }
      ]
    },
    {
      "cell_type": "code",
      "metadata": {
        "colab": {
          "base_uri": "https://localhost:8080/"
        },
        "id": "FgfZYTd5qRoQ",
        "outputId": "159c5b2e-2d85-483c-9507-7586c0879975"
      },
      "source": [
        "print('MMD1', scores, stdv)"
      ],
      "execution_count": 12,
      "outputs": [
        {
          "output_type": "stream",
          "name": "stdout",
          "text": [
            "MMD1 0.0010055297396127782 0.0004128193724958566\n"
          ]
        }
      ]
    },
    {
      "cell_type": "markdown",
      "metadata": {
        "id": "bi0rRAbMqOn_"
      },
      "source": [
        "**Run K_S^2**"
      ]
    },
    {
      "cell_type": "code",
      "metadata": {
        "colab": {
          "base_uri": "https://localhost:8080/"
        },
        "id": "kiFxFe_gqNQ8",
        "outputId": "3e7cc38a-7876-4510-8d8a-94512a4c9785"
      },
      "source": [
        "alphas1 = [1]\n",
        "alphas2 = [1]\n",
        "lambdas = [0.1,1,10]\n",
        "scores, stdv, results, _, _, _ = model(paths, prices['price'].to_numpy(),\n",
        "                                      order=2, alphas1=alphas1, alphas2=alphas2, \n",
        "                                      lambdas=lambdas, at=True, ll=None, cv=3, \n",
        "                                      mode='krr', num_trials=3)"
      ],
      "execution_count": 13,
      "outputs": [
        {
          "output_type": "stream",
          "name": "stderr",
          "text": [
            "100%|██████████| 24/24 [05:12<00:00, 13.04s/it]\n",
            "100%|██████████| 24/24 [05:13<00:00, 13.04s/it]\n",
            "100%|██████████| 24/24 [05:12<00:00, 13.04s/it]\n",
            " 33%|███▎      | 1/3 [00:02<00:05,  2.66s/it]"
          ]
        },
        {
          "output_type": "stream",
          "name": "stdout",
          "text": [
            "best scaling parameter (cv on the train set):  (1, 1, 10)\n",
            "best mse score (cv on the train set):  0.001870714650013027\n"
          ]
        },
        {
          "output_type": "stream",
          "name": "stderr",
          "text": [
            "\r 67%|██████▋   | 2/3 [00:03<00:01,  1.33s/it]"
          ]
        },
        {
          "output_type": "stream",
          "name": "stdout",
          "text": [
            "best scaling parameter (cv on the train set):  (1, 1, 10)\n",
            "best mse score (cv on the train set):  0.0008579580018942065\n"
          ]
        },
        {
          "output_type": "stream",
          "name": "stderr",
          "text": [
            "100%|██████████| 3/3 [00:03<00:00,  1.17s/it]"
          ]
        },
        {
          "output_type": "stream",
          "name": "stdout",
          "text": [
            "best scaling parameter (cv on the train set):  (1, 1, 0.1)\n",
            "best mse score (cv on the train set):  0.0022730477944135417\n"
          ]
        },
        {
          "output_type": "stream",
          "name": "stderr",
          "text": [
            "\n"
          ]
        }
      ]
    },
    {
      "cell_type": "code",
      "metadata": {
        "colab": {
          "base_uri": "https://localhost:8080/"
        },
        "id": "DOj0MKUXqcP3",
        "outputId": "2e32ad1e-de58-4352-acf3-e1926f4134bd"
      },
      "source": [
        "print('MMD2', scores, stdv)"
      ],
      "execution_count": 14,
      "outputs": [
        {
          "output_type": "stream",
          "name": "stdout",
          "text": [
            "MMD2 0.000531886298712851 0.00022121269197428498\n"
          ]
        }
      ]
    }
  ]
}