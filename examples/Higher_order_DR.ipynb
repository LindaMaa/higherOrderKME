{
  "nbformat": 4,
  "nbformat_minor": 0,
  "metadata": {
    "colab": {
      "name": "Option_pricing_DR1_dim1.ipynb",
      "provenance": [],
      "collapsed_sections": []
    },
    "kernelspec": {
      "name": "python3",
      "display_name": "Python 3"
    },
    "language_info": {
      "name": "python"
    },
    "accelerator": "GPU"
  },
  "cells": [
    {
      "cell_type": "code",
      "metadata": {
        "id": "NxkLCIXrOyrL"
      },
      "source": [
        "import pickle\n",
        "import numpy as np\n",
        "import pandas as pd\n",
        "import sys\n",
        "sys.path.append('src')"
      ],
      "execution_count": 6,
      "outputs": []
    },
    {
      "cell_type": "markdown",
      "metadata": {
        "id": "JGeYfy2_G24p"
      },
      "source": [
        "**Generate one dataset**"
      ]
    },
    {
      "cell_type": "code",
      "metadata": {
        "id": "PmqhNSbNDPz5"
      },
      "source": [
        "%cd options_utils"
      ],
      "execution_count": null,
      "outputs": []
    },
    {
      "cell_type": "code",
      "metadata": {
        "id": "vyyC5RlMxZEo"
      },
      "source": [
        "!pip install --no-cache-dir -e ."
      ],
      "execution_count": null,
      "outputs": []
    },
    {
      "cell_type": "markdown",
      "metadata": {
        "id": "u-AS5ZaPv9rB"
      },
      "source": [
        "\n",
        "> **Generate reference prices**\n",
        "\n"
      ]
    },
    {
      "cell_type": "code",
      "metadata": {
        "id": "rjwC4cXgDyCb"
      },
      "source": [
        "!python optimal_stopping/run/run_algo.py --configs=config1_prices --nb_jobs=2;"
      ],
      "execution_count": null,
      "outputs": []
    },
    {
      "cell_type": "markdown",
      "metadata": {
        "id": "xhk-_eJFwLAp"
      },
      "source": [
        "\n",
        "> **Generate the sample paths**\n",
        "\n"
      ]
    },
    {
      "cell_type": "code",
      "metadata": {
        "id": "p431ZoiLv7s5"
      },
      "source": [
        "!python optimal_stopping/run/generate_paths.py --configs=config1_paths --nb_jobs=2;"
      ],
      "execution_count": null,
      "outputs": []
    },
    {
      "cell_type": "code",
      "metadata": {
        "id": "RKeIu9pVts3h"
      },
      "source": [
        "df_ = pd.read_csv('output/metrics_draft/config1_prices.csv')\n",
        "df = df_[['hurst','price']]\n",
        "prices = df.groupby('hurst', as_index=False)['price'].mean()\n",
        "paths  = pickle.load(open('output/metrics_draft/config1_paths.obj','rb'))"
      ],
      "execution_count": null,
      "outputs": []
    },
    {
      "cell_type": "markdown",
      "metadata": {
        "id": "Kh4FDBQJHXZf"
      },
      "source": [
        "**Run one toy experiment**"
      ]
    },
    {
      "cell_type": "code",
      "metadata": {
        "id": "iFP2y-ZGHc9d"
      },
      "source": [
        "%cd src"
      ],
      "execution_count": null,
      "outputs": []
    },
    {
      "cell_type": "code",
      "metadata": {
        "id": "LBOgOy3_HV_1"
      },
      "source": [
        "from KES import model\n",
        "from DR_RBF import model as model_RBF\n",
        "from DR_matern import model as model_mat"
      ],
      "execution_count": 8,
      "outputs": []
    },
    {
      "cell_type": "code",
      "metadata": {
        "id": "8vmxkLvG76gu"
      },
      "source": [
        "paths = paths[15:-15]\n",
        "prices = prices.iloc[15:-15]"
      ],
      "execution_count": null,
      "outputs": []
    },
    {
      "cell_type": "code",
      "metadata": {
        "colab": {
          "base_uri": "https://localhost:8080/"
        },
        "id": "ndl3YX0qOyAU",
        "outputId": "1934fb9a-d8e1-413a-dcbc-3a57d150a2e6"
      },
      "source": [
        "sub = 3\n",
        "M = 500 \n",
        "paths_sub = [p[:M,:10,:] for p in paths[::sub]]\n",
        "scores,stdv, results = model_RBF(paths_sub, prices['price'].to_numpy()[::sub],at=True,ll=None,cv=3, mode='krr',NUM_TRIALS=3)"
      ],
      "execution_count": null,
      "outputs": [
        {
          "output_type": "stream",
          "text": [
            "100%|██████████| 3/3 [12:35<00:00, 251.68s/it]\n"
          ],
          "name": "stderr"
        }
      ]
    },
    {
      "cell_type": "code",
      "metadata": {
        "colab": {
          "base_uri": "https://localhost:8080/"
        },
        "id": "q50EpC_jdPFl",
        "outputId": "a23f8db8-f4d8-4b8e-f0ac-2c4d128c117b"
      },
      "source": [
        "print('matern', scores,stdv)"
      ],
      "execution_count": null,
      "outputs": [
        {
          "output_type": "stream",
          "text": [
            "matern 0.0027480169133565096 0.0030575108330338154\n"
          ],
          "name": "stdout"
        }
      ]
    },
    {
      "cell_type": "code",
      "metadata": {
        "colab": {
          "base_uri": "https://localhost:8080/"
        },
        "id": "4jMNxXkTQX7Z",
        "outputId": "da152127-1e23-45e6-8ed6-a70c182e6d6a"
      },
      "source": [
        "print('RBF', scores,stdv)"
      ],
      "execution_count": null,
      "outputs": [
        {
          "output_type": "stream",
          "text": [
            "RBF 0.0010070803628937787 0.0007484485197370775\n"
          ],
          "name": "stdout"
        }
      ]
    },
    {
      "cell_type": "code",
      "metadata": {
        "id": "xnQUnJrdlLoL"
      },
      "source": [
        "sub = 3\n",
        "M = 500\n",
        "alphas0 = [0.1,1,10]\n",
        "alphas1 = [1] # there is no alphas1 for MMD0\n",
        "lambdas = [1] # there is no lambdas for MMD0\n",
        "#0.01,0.5,1.,5.,10.,20.\n",
        "paths_sub = [p[:M,:10,:] for p in paths[::sub]]\n",
        "scores,stdv, results, ind_train, ind_test, model_ = model(paths_sub, prices['price'].to_numpy()[::sub],rank=0, alphas0=alphas0,alphas1=alphas1,lambdas=lambdas,at=True,ll=None,cv=3, mode='krr',imbalanced=False,NUM_TRIALS=3)"
      ],
      "execution_count": null,
      "outputs": []
    },
    {
      "cell_type": "code",
      "metadata": {
        "colab": {
          "base_uri": "https://localhost:8080/"
        },
        "id": "EBlP-TNddMdT",
        "outputId": "c1970635-5fc4-4e5f-b575-723e4e52d088"
      },
      "source": [
        "print('MMD0', scores, stdv)"
      ],
      "execution_count": null,
      "outputs": [
        {
          "output_type": "stream",
          "text": [
            "MMD0 0.0010055297396127782 0.0004128193724958566\n"
          ],
          "name": "stdout"
        }
      ]
    },
    {
      "cell_type": "code",
      "metadata": {
        "id": "V80yF-axP4sC"
      },
      "source": [
        "sub = 3\n",
        "M = 500\n",
        "alphas0 = [1]\n",
        "alphas1 = [1]\n",
        "lambdas = [0.1,1,10] \n",
        "paths_sub = [p[:M,:10,:] for p in paths[::sub]]\n",
        "scores,stdv, results, ind_train, ind_test, model_ = model(paths_sub, prices['price'].to_numpy()[::sub],rank=1, alphas0=alphas0,alphas1=alphas1,lambdas=lambdas,at=True,ll=None,cv=3, mode='krr',imbalanced=False,NUM_TRIALS=3)"
      ],
      "execution_count": null,
      "outputs": []
    },
    {
      "cell_type": "code",
      "metadata": {
        "colab": {
          "base_uri": "https://localhost:8080/"
        },
        "id": "7YulPx6dxMtd",
        "outputId": "87749f3d-b234-4bc4-f5c0-149abcbe4244"
      },
      "source": [
        "print('MMD1', scores, stdv)"
      ],
      "execution_count": null,
      "outputs": [
        {
          "output_type": "stream",
          "text": [
            "MMD1 0.000531886298712851 0.00022121269197428498\n"
          ],
          "name": "stdout"
        }
      ]
    }
  ]
}