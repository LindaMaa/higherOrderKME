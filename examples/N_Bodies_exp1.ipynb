{
  "nbformat": 4,
  "nbformat_minor": 0,
  "metadata": {
    "accelerator": "GPU",
    "colab": {
      "name": "N_Bodies_exp1.ipynb",
      "provenance": [],
      "collapsed_sections": [],
      "include_colab_link": true
    },
    "kernelspec": {
      "display_name": "CondSigKME",
      "language": "python",
      "name": "condsigkme"
    },
    "language_info": {
      "codemirror_mode": {
        "name": "ipython",
        "version": 3
      },
      "file_extension": ".py",
      "mimetype": "text/x-python",
      "name": "python",
      "nbconvert_exporter": "python",
      "pygments_lexer": "ipython3",
      "version": "3.7.10"
    },
    "latex_envs": {
      "LaTeX_envs_menu_present": true,
      "autoclose": false,
      "autocomplete": true,
      "bibliofile": "biblio.bib",
      "cite_by": "apalike",
      "current_citInitial": 1,
      "eqLabelWithNumbers": true,
      "eqNumInitial": 1,
      "hotkeys": {
        "equation": "Ctrl-E",
        "itemize": "Ctrl-I"
      },
      "labels_anchors": false,
      "latex_user_defs": false,
      "report_style_numbering": false,
      "user_envs_cfg": false
    },
    "toc": {
      "nav_menu": {},
      "number_sections": true,
      "sideBar": true,
      "skip_h1_title": false,
      "title_cell": "Table of Contents",
      "title_sidebar": "Contents",
      "toc_cell": true,
      "toc_position": {},
      "toc_section_display": true,
      "toc_window_display": true
    }
  },
  "cells": [
    {
      "cell_type": "markdown",
      "metadata": {
        "id": "view-in-github",
        "colab_type": "text"
      },
      "source": [
        "<a href=\"https://colab.research.google.com/github/maudl3116/higherOrderKME/blob/main/examples/N_Bodies_exp1.ipynb\" target=\"_parent\"><img src=\"https://colab.research.google.com/assets/colab-badge.svg\" alt=\"Open In Colab\"/></a>"
      ]
    },
    {
      "cell_type": "markdown",
      "metadata": {
        "id": "xLAr5lo9VNnR"
      },
      "source": [
        "# Inferring causal graph for interacting bodies\n",
        "Example in Sec. 4.3 in [paper](https://arxiv.org/pdf/2109.03582.pdf)\n",
        "***"
      ]
    },
    {
      "cell_type": "markdown",
      "metadata": {
        "id": "6BhDb7PYYQNe"
      },
      "source": [
        "First we install the higherOrderKME package"
      ]
    },
    {
      "cell_type": "code",
      "metadata": {
        "id": "0sWt6HHmX3zD"
      },
      "source": [
        "!pip install git+https://github.com/maudl3116/higherOrderKME.git"
      ],
      "execution_count": null,
      "outputs": []
    },
    {
      "cell_type": "markdown",
      "metadata": {
        "id": "Gx97TpJCVhjE"
      },
      "source": [
        "Here we also need to clone the repository to access the data simulator for this experiment"
      ]
    },
    {
      "cell_type": "code",
      "metadata": {
        "id": "GIuQvaDtgLPv"
      },
      "source": [
        "!git clone https://github.com/maudl3116/higherOrderKME.git"
      ],
      "execution_count": null,
      "outputs": []
    },
    {
      "cell_type": "code",
      "metadata": {
        "id": "PmqhNSbNDPz5",
        "colab": {
          "base_uri": "https://localhost:8080/"
        },
        "outputId": "baf047f8-d15b-4fdd-b120-92a22c9006ac"
      },
      "source": [
        "%cd higherOrderKME"
      ],
      "execution_count": 1,
      "outputs": [
        {
          "output_type": "stream",
          "name": "stdout",
          "text": [
            "/content/higherOrderKME\n"
          ]
        }
      ]
    },
    {
      "cell_type": "markdown",
      "metadata": {
        "id": "xLBB2F5dVvQ3"
      },
      "source": [
        "Finally we install specific Python libraries for this experiment"
      ]
    },
    {
      "cell_type": "code",
      "metadata": {
        "id": "jllI_rNEgjLT"
      },
      "source": [
        "!pip install -r examples/requirements.txt"
      ],
      "execution_count": null,
      "outputs": []
    },
    {
      "cell_type": "markdown",
      "metadata": {
        "id": "Vi8OX-l4cqSt"
      },
      "source": [
        "Optionally run the following cell to get latex figures"
      ]
    },
    {
      "cell_type": "code",
      "metadata": {
        "id": "YQVEUmH7cqj1"
      },
      "source": [
        "# !sudo apt install texlive texlive-latex-extra texlive-fonts-recommended dvipng\n",
        "# !pip install latex\n",
        "# !sudo apt install cm-super"
      ],
      "execution_count": null,
      "outputs": []
    },
    {
      "cell_type": "markdown",
      "metadata": {
        "id": "JGeYfy2_G24p"
      },
      "source": [
        "Now we generate some data"
      ]
    },
    {
      "cell_type": "code",
      "metadata": {
        "id": "G5ffmO04g6su",
        "colab": {
          "base_uri": "https://localhost:8080/"
        },
        "outputId": "5f3f93ba-7e92-4178-dbf3-70b33037ed75"
      },
      "source": [
        "%cd data/n_vcn_utils/"
      ],
      "execution_count": 2,
      "outputs": [
        {
          "output_type": "stream",
          "name": "stdout",
          "text": [
            "/content/higherOrderKME/data/n_vcn_utils\n"
          ]
        }
      ]
    },
    {
      "cell_type": "code",
      "metadata": {
        "id": "iwB0EcKbhKxX"
      },
      "source": [
        "from utils import load_data"
      ],
      "execution_count": 3,
      "outputs": []
    },
    {
      "cell_type": "markdown",
      "metadata": {
        "id": "87v0RnOmadB0"
      },
      "source": [
        "- run the script exp1.sh to vary the number of samples\n",
        "- run the script exp2.sh to vary the number of balls"
      ]
    },
    {
      "cell_type": "code",
      "metadata": {
        "id": "rjwC4cXgDyCb"
      },
      "source": [
        "!sh exp1.sh"
      ],
      "execution_count": null,
      "outputs": []
    },
    {
      "cell_type": "code",
      "metadata": {
        "id": "x7YBoA3LzduL",
        "colab": {
          "base_uri": "https://localhost:8080/"
        },
        "outputId": "58af2667-cc73-4665-92ce-219f7289fe10"
      },
      "source": [
        "%cd ../../"
      ],
      "execution_count": 4,
      "outputs": [
        {
          "output_type": "stream",
          "name": "stdout",
          "text": [
            "/content/higherOrderKME\n"
          ]
        }
      ]
    },
    {
      "cell_type": "markdown",
      "metadata": {
        "id": "IZsrDQvyaEVm"
      },
      "source": [
        "**Imports**"
      ]
    },
    {
      "cell_type": "code",
      "metadata": {
        "id": "LBOgOy3_HV_1"
      },
      "source": [
        "import pickle \n",
        "import numpy as np\n",
        "import higherOrderKME\n",
        "import matplotlib.pyplot as plt\n",
        "from higherOrderKME.SigKPC.pcskeleton import skeleton"
      ],
      "execution_count": 5,
      "outputs": []
    },
    {
      "cell_type": "markdown",
      "metadata": {
        "id": "WbxXIBfqyiWb"
      },
      "source": [
        "**Define utilities** "
      ]
    },
    {
      "cell_type": "code",
      "metadata": {
        "id": "q-3ZPWKxyiWc"
      },
      "source": [
        "def get_gt_graph(path): \n",
        "    graph = pickle.load(open(path,'rb'))\n",
        "    return graph[0][0][:,0].astype(np.int)\n",
        "\n",
        "\n",
        "def pred_graph(pval,alpha=0.6,nball=5):\n",
        "    edge = np.zeros(nball*(nball-1)//2)\n",
        "    cnt = 0\n",
        "    for i in range(nball):\n",
        "        for j in range(i):\n",
        "            if pval[i,j]<alpha:\n",
        "                edge[cnt]=0\n",
        "            else:\n",
        "                edge[cnt]=1\n",
        "            cnt+=1\n",
        "    return edge.astype(int)"
      ],
      "execution_count": 6,
      "outputs": []
    },
    {
      "cell_type": "markdown",
      "metadata": {
        "id": "Kh4FDBQJHXZf"
      },
      "source": [
        "**Run experiment**"
      ]
    },
    {
      "cell_type": "code",
      "metadata": {
        "id": "8IZZQN9jyiWe"
      },
      "source": [
        "nball = 5"
      ],
      "execution_count": 7,
      "outputs": []
    },
    {
      "cell_type": "code",
      "metadata": {
        "id": "3_BP7WycyiWg",
        "colab": {
          "base_uri": "https://localhost:8080/"
        },
        "outputId": "adffff65-2658-4c11-9782-e21ee3af66bf"
      },
      "source": [
        "ground_truth = []\n",
        "hsics = []\n",
        "P = 5 # number of values that the parameter we vary takes (e.g. samples = [20,40,60,80,100])\n",
        "N_rep = 15\n",
        "for repeat in range(1,N_rep+1):\n",
        "    print('step:', repeat)\n",
        "    for i in range(P):\n",
        "        name_paths = 'data/n_vcn_utils/data/exp1/{0}_Ball/{1}.obj'.format(repeat,i)\n",
        "        name_graph = 'data/n_vcn_utils/data/exp1/{0}_Ball/graph_{1}.obj'.format(repeat,i)\n",
        "\n",
        "        # get the distribution\n",
        "        distri = pickle.load(open(name_paths,'rb'))  # (n_ball, n_samples, T, D) with D = 4. We keep only the first dimensions which correspond to the 2d coordinates\n",
        "        \n",
        "        # get ground truth graph \n",
        "        graph_gt = get_gt_graph(name_graph)\n",
        "        \n",
        "        # run causal discovery\n",
        "        res = skeleton(distri[:,:,:,:2]*0.01, alpha=0.6, test= False, p=nball, maxi=1, fixedGaps=None, eps=0.01, dyadic_order=2, static='rbf', sigma=10.)\n",
        "        ground_truth.append(graph_gt)\n",
        "        hsics.append(res[2].copy())"
      ],
      "execution_count": 8,
      "outputs": [
        {
          "output_type": "stream",
          "name": "stdout",
          "text": [
            "step: 1\n"
          ]
        },
        {
          "output_type": "stream",
          "name": "stderr",
          "text": [
            "/usr/local/lib/python3.7/dist-packages/ipykernel_launcher.py:3: DeprecationWarning: `np.int` is a deprecated alias for the builtin `int`. To silence this warning, use `int` by itself. Doing this will not modify any behavior and is safe. When replacing `np.int`, you may wish to use e.g. `np.int64` or `np.int32` to specify the precision. If you wish to review your current use, check the release note link for additional information.\n",
            "Deprecated in NumPy 1.20; for more details and guidance: https://numpy.org/devdocs/release/1.20.0-notes.html#deprecations\n",
            "  This is separate from the ipykernel package so we can avoid doing imports until\n",
            "/usr/local/lib/python3.7/dist-packages/ipykernel_launcher.py:3: DeprecationWarning: `np.int` is a deprecated alias for the builtin `int`. To silence this warning, use `int` by itself. Doing this will not modify any behavior and is safe. When replacing `np.int`, you may wish to use e.g. `np.int64` or `np.int32` to specify the precision. If you wish to review your current use, check the release note link for additional information.\n",
            "Deprecated in NumPy 1.20; for more details and guidance: https://numpy.org/devdocs/release/1.20.0-notes.html#deprecations\n",
            "  This is separate from the ipykernel package so we can avoid doing imports until\n"
          ]
        },
        {
          "output_type": "stream",
          "name": "stdout",
          "text": [
            "step: 2\n",
            "step: 3\n",
            "step: 4\n",
            "step: 5\n",
            "step: 6\n",
            "step: 7\n",
            "step: 8\n",
            "step: 9\n",
            "step: 10\n",
            "step: 11\n",
            "step: 12\n",
            "step: 13\n",
            "step: 14\n",
            "step: 15\n"
          ]
        }
      ]
    },
    {
      "cell_type": "markdown",
      "metadata": {
        "id": "Qv1BQawSi-Ls"
      },
      "source": [
        "**Use a fraction of the data to fix the threshold $\\alpha$**"
      ]
    },
    {
      "cell_type": "code",
      "metadata": {
        "id": "gId3ZH6Izs8-"
      },
      "source": [
        "N = 50 # number of alphas to test\n",
        "alphas_cv = np.linspace(0.2,2.5,N)\n",
        "\n",
        "N_train = 5\n",
        "\n",
        "alpha_scores = np.zeros((P,N_train,N))\n",
        "\n",
        "c = 0\n",
        "# train -> decide best alphas\n",
        "for repeat in range(N_rep):\n",
        "    for i in range(P):\n",
        "        true = ground_truth[c]\n",
        "        pval = hsics[c]\n",
        "\n",
        "        if repeat<N_train:\n",
        "          # decide \n",
        "          for j in range(N):\n",
        "            graph_pred = pred_graph(pval,alpha=alphas_cv[j],nball=nball)\n",
        "            alpha_scores[i,repeat,j] = np.mean(graph_pred.astype(int)==true)\n",
        "        \n",
        "        c+=1\n",
        "\n",
        "best_alphas = np.zeros(P)\n",
        "for p in range(P):\n",
        "  avg_score = alpha_scores[p,:N_train,:].mean(axis=0)\n",
        "  best_alphas[p] = np.argmax(avg_score)\n",
        "\n",
        "#test -> check results with chosen alphas\n",
        "results = np.zeros((P,N_rep-N_train))\n",
        "c = 0\n",
        "for repeat in range(N_rep):\n",
        "    for i in range(P):\n",
        "        true = ground_truth[c]\n",
        "        pval = hsics[c]\n",
        "\n",
        "        if repeat >= N_train: \n",
        "          graph_pred = pred_graph(pval,alpha=alphas_cv[best_alphas[i].astype(int)],nball=nball)\n",
        "          results[i,repeat-N_train]  = np.mean(graph_pred.astype(int)==true)\n",
        "        c+=1"
      ],
      "execution_count": 9,
      "outputs": []
    },
    {
      "cell_type": "code",
      "metadata": {
        "id": "s4XZe9rHuyv4"
      },
      "source": [
        "plt.style.use('seaborn')\n",
        "width = 345\n",
        "\n",
        "tex_fonts = {\n",
        "    \"text.usetex\": True, # set to False if tex not installed\n",
        "    \"font.family\": \"serif\",\n",
        "    \"axes.labelsize\": 22,\n",
        "    \"font.size\": 22,\n",
        "    \"legend.fontsize\": 22,\n",
        "    \"xtick.labelsize\": 20,\n",
        "    \"ytick.labelsize\": 20,\n",
        "    'figure.figsize': (7, 5),\n",
        "}\n",
        "\n",
        "plt.rcParams.update(tex_fonts)"
      ],
      "execution_count": 10,
      "outputs": []
    },
    {
      "cell_type": "code",
      "metadata": {
        "colab": {
          "base_uri": "https://localhost:8080/",
          "height": 343
        },
        "id": "eHQeq-6apz9M",
        "outputId": "01c17afc-82c1-41a1-ae29-7a9db520d3f1"
      },
      "source": [
        "fig, ax = plt.subplots()\n",
        "ax.bar(np.arange(20,120,20),np.mean(results,axis=1) , yerr=np.std(results,axis=1), align='center', alpha=0.5, ecolor='black', capsize=10,width=10,color='blue')\n",
        "ax.set_ylabel('Accuracy',labelpad=10)\n",
        "ax.set_xlabel('Number of balls',labelpad=10)\n",
        "ax.yaxis.grid(True)\n",
        "\n",
        "# Save the figure and show\n",
        "plt.tight_layout()\n",
        "# plt.savefig('exp1.pdf')\n",
        "plt.show()"
      ],
      "execution_count": 13,
      "outputs": [
        {
          "output_type": "display_data",
          "data": {
            "image/png": "[encoded data removed]",
            "text/plain": [
              "<Figure size 504x360 with 1 Axes>"
            ]
          },
          "metadata": {}
        }
      ]
    },
    {
      "cell_type": "code",
      "metadata": {
        "colab": {
          "base_uri": "https://localhost:8080/"
        },
        "id": "Em3oK_3EbIUL",
        "outputId": "ce4bc22a-85ca-426a-9b2c-458477e2c113"
      },
      "source": [
        "print(np.mean(results,axis=1),np.std(results,axis=1))"
      ],
      "execution_count": 12,
      "outputs": [
        {
          "output_type": "stream",
          "name": "stdout",
          "text": [
            "[0.55 0.74 0.87 0.86 0.91] [0.16881943 0.0663325  0.06403124 0.09165151 0.08306624]\n"
          ]
        }
      ]
    }
  ]
}