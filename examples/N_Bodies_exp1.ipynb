{
  "nbformat": 4,
  "nbformat_minor": 0,
  "metadata": {
    "accelerator": "GPU",
    "colab": {
      "name": "N_Bodies_exp.ipynb",
      "provenance": [],
      "collapsed_sections": []
    },
    "kernelspec": {
      "display_name": "CondSigKME",
      "language": "python",
      "name": "condsigkme"
    },
    "language_info": {
      "codemirror_mode": {
        "name": "ipython",
        "version": 3
      },
      "file_extension": ".py",
      "mimetype": "text/x-python",
      "name": "python",
      "nbconvert_exporter": "python",
      "pygments_lexer": "ipython3",
      "version": "3.7.10"
    },
    "latex_envs": {
      "LaTeX_envs_menu_present": true,
      "autoclose": false,
      "autocomplete": true,
      "bibliofile": "biblio.bib",
      "cite_by": "apalike",
      "current_citInitial": 1,
      "eqLabelWithNumbers": true,
      "eqNumInitial": 1,
      "hotkeys": {
        "equation": "Ctrl-E",
        "itemize": "Ctrl-I"
      },
      "labels_anchors": false,
      "latex_user_defs": false,
      "report_style_numbering": false,
      "user_envs_cfg": false
    },
    "toc": {
      "nav_menu": {},
      "number_sections": true,
      "sideBar": true,
      "skip_h1_title": false,
      "title_cell": "Table of Contents",
      "title_sidebar": "Contents",
      "toc_cell": true,
      "toc_position": {},
      "toc_section_display": true,
      "toc_window_display": true
    }
  },
  "cells": [
    {
      "cell_type": "markdown",
      "metadata": {
        "toc": true,
        "id": "L69oUGWeyiWL"
      },
      "source": [
        "<h1>Table of Contents<span class=\"tocSkip\"></span></h1>\n",
        "<div class=\"toc\"><ul class=\"toc-item\"></ul></div>"
      ]
    },
    {
      "cell_type": "markdown",
      "metadata": {
        "id": "7xg5FutVG6tU"
      },
      "source": [
        "**Install packages**"
      ]
    },
    {
      "cell_type": "code",
      "metadata": {
        "id": "KyiQCmCxDJCM"
      },
      "source": [
        "!git clone https://github.com/maudl3116/CondSigKME.git"
      ],
      "execution_count": null,
      "outputs": []
    },
    {
      "cell_type": "code",
      "metadata": {
        "id": "huBzMZZ3EFne",
        "colab": {
          "base_uri": "https://localhost:8080/"
        },
        "outputId": "a85483ff-6c79-4b30-8333-e8e6c6c697c9"
      },
      "source": [
        "%cd CondSigKME"
      ],
      "execution_count": 1,
      "outputs": [
        {
          "output_type": "stream",
          "text": [
            "/content/CondSigKME\n"
          ],
          "name": "stdout"
        }
      ]
    },
    {
      "cell_type": "code",
      "metadata": {
        "id": "QqlwzCbkEImU"
      },
      "source": [
        "!pip install -r requirements.txt"
      ],
      "execution_count": null,
      "outputs": []
    },
    {
      "cell_type": "code",
      "metadata": {
        "id": "av-D6Zq0GiVS"
      },
      "source": [
        "!pip install git+https://github.com/maudl3116/sigkernel.git"
      ],
      "execution_count": null,
      "outputs": []
    },
    {
      "cell_type": "markdown",
      "metadata": {
        "id": "JGeYfy2_G24p"
      },
      "source": [
        "**Generate data**"
      ]
    },
    {
      "cell_type": "code",
      "metadata": {
        "id": "PmqhNSbNDPz5"
      },
      "source": [
        "%cd n_vcn_utils"
      ],
      "execution_count": null,
      "outputs": []
    },
    {
      "cell_type": "code",
      "metadata": {
        "id": "rjwC4cXgDyCb"
      },
      "source": [
        "!sh exp1.sh"
      ],
      "execution_count": null,
      "outputs": []
    },
    {
      "cell_type": "code",
      "metadata": {
        "id": "x7YBoA3LzduL"
      },
      "source": [
        "%cd ../"
      ],
      "execution_count": null,
      "outputs": []
    },
    {
      "cell_type": "code",
      "metadata": {
        "id": "LBOgOy3_HV_1"
      },
      "source": [
        "import os\n",
        "import numpy as np\n",
        "import matplotlib.pyplot as plt\n",
        "from n_vcn_utils.utils import load_data\n",
        "from src.SigKPC.pcskeleton import skeleton\n",
        "import pickle "
      ],
      "execution_count": 4,
      "outputs": []
    },
    {
      "cell_type": "markdown",
      "metadata": {
        "id": "WbxXIBfqyiWb"
      },
      "source": [
        "**Define utilities** "
      ]
    },
    {
      "cell_type": "code",
      "metadata": {
        "id": "q-3ZPWKxyiWc"
      },
      "source": [
        "def get_gt_graph(path): \n",
        "    graph = pickle.load(open(path,'rb'))\n",
        "    return graph[0][0][:,0].astype(np.int)\n",
        "\n",
        "\n",
        "def pred_graph(pval,alpha=0.6,nball=5):\n",
        "    edge = np.zeros(nball*(nball-1)//2)\n",
        "    cnt = 0\n",
        "    for i in range(nball):\n",
        "        for j in range(i):\n",
        "            if pval[i,j]<alpha:\n",
        "                edge[cnt]=0\n",
        "            else:\n",
        "                edge[cnt]=1\n",
        "            cnt+=1\n",
        "    return edge.astype(int)"
      ],
      "execution_count": 5,
      "outputs": []
    },
    {
      "cell_type": "markdown",
      "metadata": {
        "id": "Kh4FDBQJHXZf"
      },
      "source": [
        "**Run experiment**"
      ]
    },
    {
      "cell_type": "code",
      "metadata": {
        "id": "8IZZQN9jyiWe"
      },
      "source": [
        "nball = 5"
      ],
      "execution_count": 6,
      "outputs": []
    },
    {
      "cell_type": "code",
      "metadata": {
        "id": "3_BP7WycyiWg"
      },
      "source": [
        "ground_truth = []\n",
        "hsics = []\n",
        "for repeat in range(1,16):\n",
        "    for i in range(5):\n",
        "        name_paths = 'n_vcn_utils/data/exp1/{0}_Ball/{1}.obj'.format(repeat,i)\n",
        "        name_graph = 'n_vcn_utils/data/exp1/{0}_Ball/graph_{1}.obj'.format(repeat,i)\n",
        "\n",
        "        # get the distribution\n",
        "        distri = pickle.load(open(name_paths,'rb'))  # (n_ball, i, T, D) with D=4\n",
        "        \n",
        "        # get ground truth graph \n",
        "        graph_gt = get_gt_graph(name_graph)\n",
        "        \n",
        "        # run causal discovery\n",
        "        res = skeleton(distri[:,:,:,:2]*0.01, alpha=0.6, test= False, p=nball, maxi=1, fixedGaps=None, eps=0.01, dyadic_order=2, static='rbf', sigma=10.)\n",
        "        ground_truth.append(graph_gt)\n",
        "        hsics.append(res[2].copy())\n",
        "        # pval = res[2].copy()\n",
        "        # graph_pred = pred_graph(pval,alpha=0.6,nball=nball)\n",
        "        # print('correct fraction', np.mean(graph_pred.astype(int)==graph_gt))"
      ],
      "execution_count": null,
      "outputs": []
    },
    {
      "cell_type": "code",
      "metadata": {
        "id": "xP3hE_oWrOxa"
      },
      "source": [
        "ground_truth, hsics = pickle.load(open('../drive/MyDrive/exp1_results.obj','rb'))"
      ],
      "execution_count": 8,
      "outputs": []
    },
    {
      "cell_type": "code",
      "metadata": {
        "id": "gId3ZH6Izs8-"
      },
      "source": [
        "N = 50 # number of alphas to test\n",
        "P = 5 # number of points in the function \n",
        "alphas_cv = np.linspace(0.2,2.5,N)\n",
        "\n",
        "N_rep = 15\n",
        "N_train = 5\n",
        "\n",
        "alpha_scores = np.zeros((P,N_train,N))\n",
        "\n",
        "c = 0\n",
        "# train -> decide best alphas\n",
        "for repeat in range(N_rep):\n",
        "    for i in range(P):\n",
        "        true = ground_truth[c]\n",
        "        pval = hsics[c]\n",
        "\n",
        "        if repeat<N_train:\n",
        "          # decide \n",
        "          for j in range(N):\n",
        "            graph_pred = pred_graph(pval,alpha=alphas_cv[j],nball=nball)\n",
        "            alpha_scores[i,repeat,j] = np.mean(graph_pred.astype(int)==true)\n",
        "        \n",
        "        c+=1\n",
        "\n",
        "best_alphas = np.zeros(P)\n",
        "for p in range(P):\n",
        "  avg_score = alpha_scores[p,:N_train,:].mean(axis=0)\n",
        "  best_alphas[p] = np.argmax(avg_score)\n",
        "\n",
        "#test -> check results with cross-validated alphas\n",
        "results = np.zeros((P,N_rep-N_train))\n",
        "c = 0\n",
        "for repeat in range(N_rep):\n",
        "    for i in range(P):\n",
        "        true = ground_truth[c]\n",
        "        pval = hsics[c]\n",
        "\n",
        "        if repeat >= N_train:\n",
        "          # decide \n",
        "          graph_pred = pred_graph(pval,alpha=alphas_cv[best_alphas[i].astype(int)],nball=nball)\n",
        "          results[i,repeat-N_train]  = np.mean(graph_pred.astype(int)==true)\n",
        "        c+=1"
      ],
      "execution_count": 11,
      "outputs": []
    },
    {
      "cell_type": "code",
      "metadata": {
        "id": "s4XZe9rHuyv4"
      },
      "source": [
        "# Using seaborn's style\n",
        "plt.style.use('seaborn')\n",
        "width = 345\n",
        "\n",
        "tex_fonts = {\n",
        "    # Use LaTeX to write all text\n",
        "    \"text.usetex\": False,\n",
        "    \"font.family\": \"serif\",\n",
        "    # Use 10pt font in plots, to match 10pt font in document\n",
        "    \"axes.labelsize\": 22,\n",
        "    \"font.size\": 22,\n",
        "    # Make the legend/label fonts a little smaller\n",
        "    \"legend.fontsize\": 22,\n",
        "    \"xtick.labelsize\": 20,\n",
        "    \"ytick.labelsize\": 20,\n",
        "    'figure.figsize': (7, 5),\n",
        "}\n",
        "\n",
        "plt.rcParams.update(tex_fonts)"
      ],
      "execution_count": 44,
      "outputs": []
    },
    {
      "cell_type": "code",
      "metadata": {
        "colab": {
          "base_uri": "https://localhost:8080/",
          "height": 343
        },
        "id": "eHQeq-6apz9M",
        "outputId": "4d3f3b49-42e9-4b29-deb1-41421b1ddc6e"
      },
      "source": [
        "fig, ax = plt.subplots()\n",
        "ax.bar(np.arange(20,120,20),np.mean(results,axis=1) , yerr=np.std(results,axis=1), align='center', alpha=0.5, ecolor='black', capsize=10,width=10,color='blue')\n",
        "ax.set_ylabel('Accuracy',labelpad=10)\n",
        "ax.set_xlabel('Number of samples',labelpad=10)\n",
        "# ax.set_xticks(np.arange(20,120,5))\n",
        "# ax.set_xticklabels(materials)\n",
        "# ax.set_title('Accu')\n",
        "ax.yaxis.grid(True)\n",
        "\n",
        "# Save the figure and show\n",
        "plt.tight_layout()\n",
        "plt.savefig('exp1.pdf')\n",
        "plt.show()"
      ],
      "execution_count": 46,
      "outputs": [
        {
          "output_type": "display_data",
          "data": {
            "image/png": "[encoded data removed]",
            "text/plain": [
              "<Figure size 504x360 with 1 Axes>"
            ]
          },
          "metadata": {
            "tags": []
          }
        }
      ]
    },
    {
      "cell_type": "code",
      "metadata": {
        "id": "lSkJvgUPzIe5"
      },
      "source": [
        ""
      ],
      "execution_count": null,
      "outputs": []
    }
  ]
}