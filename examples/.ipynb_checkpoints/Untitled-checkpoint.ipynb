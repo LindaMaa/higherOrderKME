{
 "cells": [
  {
   "cell_type": "markdown",
   "metadata": {
    "toc": true
   },
   "source": [
    "<h1>Table of Contents<span class=\"tocSkip\"></span></h1>\n",
    "<div class=\"toc\"><ul class=\"toc-item\"></ul></div>"
   ]
  },
  {
   "cell_type": "code",
   "execution_count": 1,
   "metadata": {},
   "outputs": [],
   "source": [
    "# !pip install git+https://github.com/maudl3116/sigkernel.git"
   ]
  },
  {
   "cell_type": "code",
   "execution_count": 1,
   "metadata": {},
   "outputs": [],
   "source": [
    "import sys\n",
    "import os\n",
    "import numpy as np\n",
    "sys.path.append('../n_vcn_utils')\n",
    "sys.path.append('../src')"
   ]
  },
  {
   "cell_type": "code",
   "execution_count": 2,
   "metadata": {},
   "outputs": [],
   "source": [
    "from utils import load_data\n",
    "from SigKPC.pcskeleton import skeleton"
   ]
  },
  {
   "cell_type": "markdown",
   "metadata": {},
   "source": [
    "**get the graph**"
   ]
  },
  {
   "cell_type": "code",
   "execution_count": 3,
   "metadata": {},
   "outputs": [],
   "source": [
    "nball=5\n",
    "\n",
    "stat_path = os.path.join('../n_vcn_utils/data/data_Ball/valid/', '1.h5')\n",
    "data_names = ['attrs', 'states', 'actions', 'rels']\n",
    "metadata = load_data(data_names, stat_path)"
   ]
  },
  {
   "cell_type": "code",
   "execution_count": 4,
   "metadata": {},
   "outputs": [
    {
     "name": "stderr",
     "output_type": "stream",
     "text": [
      "/Users/maudlemercier/opt/anaconda3/envs/CondSigKME/lib/python3.7/site-packages/ipykernel_launcher.py:1: DeprecationWarning: `np.int` is a deprecated alias for the builtin `int`. To silence this warning, use `int` by itself. Doing this will not modify any behavior and is safe. When replacing `np.int`, you may wish to use e.g. `np.int64` or `np.int32` to specify the precision. If you wish to review your current use, check the release note link for additional information.\n",
      "Deprecated in NumPy 1.20; for more details and guidance: https://numpy.org/devdocs/release/1.20.0-notes.html#deprecations\n",
      "  \"\"\"Entry point for launching an IPython kernel.\n"
     ]
    }
   ],
   "source": [
    "edge_type = metadata[data_names.index('rels')][0, :, 0].astype(np.int)\n",
    "edge_attr = metadata[data_names.index('rels')][0, :, 1:]\n",
    "edge_type_gt = np.zeros((nball, nball, 1))\n",
    "edge_attr_gt = np.zeros((nball, nball, 1))"
   ]
  },
  {
   "cell_type": "code",
   "execution_count": 5,
   "metadata": {},
   "outputs": [
    {
     "data": {
      "text/plain": [
       "array([0, 1, 1, 1, 0, 1, 1, 1, 0, 0])"
      ]
     },
     "execution_count": 5,
     "metadata": {},
     "output_type": "execute_result"
    }
   ],
   "source": [
    "edge_type"
   ]
  },
  {
   "cell_type": "markdown",
   "metadata": {},
   "source": [
    "**Get data to find the graph**"
   ]
  },
  {
   "cell_type": "code",
   "execution_count": 10,
   "metadata": {},
   "outputs": [],
   "source": [
    "n_repeat = 50\n",
    "dataset = []\n",
    "for i in range(n_repeat):\n",
    "    stat_path = os.path.join('../n_vcn_utils/data/data_Ball/valid/', '{}.h5'.format(i))\n",
    "    metadata = load_data(data_names, stat_path)\n",
    "    data = metadata[data_names.index('states')][:,:,:2]  # (time,nball,4)\n",
    "    data = data.transpose(1,0,2) # (nball, time, dim)\n",
    "    dataset.append(data[:,None,:,:]) # (nball, M, time, dim)"
   ]
  },
  {
   "cell_type": "code",
   "execution_count": 11,
   "metadata": {},
   "outputs": [],
   "source": [
    "data_= np.concatenate(dataset, axis=1)"
   ]
  },
  {
   "cell_type": "code",
   "execution_count": 12,
   "metadata": {},
   "outputs": [
    {
     "data": {
      "text/plain": [
       "array([[-3.25260059,  5.73035276],\n",
       "       [-3.4741168 ,  5.65195816],\n",
       "       [-3.64043612,  5.54312828],\n",
       "       [-3.75484388,  5.41398013],\n",
       "       [-3.81651741,  5.26451114]])"
      ]
     },
     "execution_count": 12,
     "metadata": {},
     "output_type": "execute_result"
    }
   ],
   "source": [
    "test=data_*0.1\n",
    "test[0,0,:5]"
   ]
  },
  {
   "cell_type": "code",
   "execution_count": 13,
   "metadata": {},
   "outputs": [
    {
     "name": "stdout",
     "output_type": "stream",
     "text": [
      "pval tensor(1.2390, dtype=torch.float64)\n",
      "pval tensor(1.2368, dtype=torch.float64)\n",
      "pval tensor(1.2371, dtype=torch.float64)\n",
      "pval tensor(0.4389, dtype=torch.float64)\n",
      "pval tensor(2.0436, dtype=torch.float64)\n",
      "pval tensor(2.0445, dtype=torch.float64)\n",
      "pval tensor(2.0460, dtype=torch.float64)\n",
      "pval tensor(1.1652, dtype=torch.float64)\n",
      "pval tensor(1.1669, dtype=torch.float64)\n",
      "pval tensor(1.1673, dtype=torch.float64)\n",
      "pval tensor(1.2390, dtype=torch.float64)\n",
      "pval tensor(1.2368, dtype=torch.float64)\n",
      "pval tensor(1.2371, dtype=torch.float64)\n",
      "pval tensor(0.7988, dtype=torch.float64)\n",
      "pval tensor(0.7992, dtype=torch.float64)\n",
      "pval tensor(0.7987, dtype=torch.float64)\n",
      "pval tensor(1.2482, dtype=torch.float64)\n",
      "pval tensor(1.2506, dtype=torch.float64)\n",
      "pval tensor(1.2476, dtype=torch.float64)\n",
      "pval tensor(2.4790, dtype=torch.float64)\n",
      "pval tensor(2.4800, dtype=torch.float64)\n",
      "pval tensor(2.4776, dtype=torch.float64)\n",
      "pval tensor(0.7988, dtype=torch.float64)\n",
      "pval tensor(0.7992, dtype=torch.float64)\n",
      "pval tensor(0.7987, dtype=torch.float64)\n",
      "pval tensor(2.1413, dtype=torch.float64)\n",
      "pval tensor(2.1435, dtype=torch.float64)\n",
      "pval tensor(2.1415, dtype=torch.float64)\n",
      "pval tensor(0.9050, dtype=torch.float64)\n",
      "pval tensor(0.9050, dtype=torch.float64)\n",
      "pval tensor(0.9037, dtype=torch.float64)\n",
      "pval tensor(2.0436, dtype=torch.float64)\n",
      "pval tensor(2.0445, dtype=torch.float64)\n",
      "pval tensor(2.0460, dtype=torch.float64)\n",
      "pval tensor(1.2482, dtype=torch.float64)\n",
      "pval tensor(1.2506, dtype=torch.float64)\n",
      "pval tensor(1.2476, dtype=torch.float64)\n",
      "pval tensor(2.1413, dtype=torch.float64)\n",
      "pval tensor(2.1435, dtype=torch.float64)\n",
      "pval tensor(2.1415, dtype=torch.float64)\n",
      "pval tensor(0.8209, dtype=torch.float64)\n",
      "pval tensor(0.8182, dtype=torch.float64)\n",
      "pval tensor(0.8195, dtype=torch.float64)\n",
      "pval tensor(1.1652, dtype=torch.float64)\n",
      "pval tensor(1.1669, dtype=torch.float64)\n",
      "pval tensor(1.1673, dtype=torch.float64)\n",
      "pval tensor(2.4790, dtype=torch.float64)\n",
      "pval tensor(2.4800, dtype=torch.float64)\n",
      "pval tensor(2.4776, dtype=torch.float64)\n",
      "pval tensor(0.9050, dtype=torch.float64)\n",
      "pval tensor(0.9050, dtype=torch.float64)\n",
      "pval tensor(0.9037, dtype=torch.float64)\n",
      "pval tensor(0.8209, dtype=torch.float64)\n",
      "pval tensor(0.8182, dtype=torch.float64)\n",
      "pval tensor(0.8195, dtype=torch.float64)\n"
     ]
    }
   ],
   "source": [
    "graph = skeleton(data_*0.01, alpha=0.5, test= False, p=nball, maxi=1, fixedGaps=None, eps=0.1, dyadic_order=2, static='rbf', sigma=10.)"
   ]
  },
  {
   "cell_type": "code",
   "execution_count": 16,
   "metadata": {},
   "outputs": [
    {
     "data": {
      "text/plain": [
       "array([[0, 2],\n",
       "       [0, 3],\n",
       "       [0, 4],\n",
       "       [1, 2],\n",
       "       [1, 4],\n",
       "       [2, 0],\n",
       "       [2, 1],\n",
       "       [2, 3],\n",
       "       [3, 0],\n",
       "       [3, 2],\n",
       "       [4, 0],\n",
       "       [4, 1]])"
      ]
     },
     "execution_count": 16,
     "metadata": {},
     "output_type": "execute_result"
    }
   ],
   "source": [
    "ground_truth = np.zeros((nball,nball))\n",
    "cnt = 0\n",
    "for i in range(nball):\n",
    "    for j in range(i):\n",
    "        ground_truth[i,j] = edge_type[cnt]\n",
    "        ground_truth[j,i] = edge_type[cnt]\n",
    "        cnt+=1\n",
    "np.argwhere(ground_truth==1)"
   ]
  },
  {
   "cell_type": "code",
   "execution_count": 17,
   "metadata": {},
   "outputs": [
    {
     "name": "stdout",
     "output_type": "stream",
     "text": [
      "[[       inf 1.23675491 0.43894834 2.04361285 1.16515719]\n",
      " [1.23675491        inf 0.79872169 1.24759404 2.47758578]\n",
      " [0.43894834 0.79872169        inf 2.14134527 0.90367151]\n",
      " [2.04361285 1.24759404 2.14134527        inf 0.8181506 ]\n",
      " [1.16515719 2.47758578 0.90367151 0.8181506         inf]]\n",
      "[[0. 1. 0. 1. 1.]\n",
      " [1. 0. 1. 1. 1.]\n",
      " [0. 1. 0. 1. 1.]\n",
      " [1. 1. 1. 0. 1.]\n",
      " [1. 1. 1. 1. 0.]]\n",
      "\n",
      " [[0. 0. 1. 1. 1.]\n",
      " [0. 0. 1. 0. 1.]\n",
      " [1. 1. 0. 1. 0.]\n",
      " [1. 0. 1. 0. 0.]\n",
      " [1. 1. 0. 0. 0.]]\n"
     ]
    }
   ],
   "source": [
    "pval = graph[2].copy()\n",
    "print(pval)\n",
    "print(graph[0])\n",
    "print('\\n',ground_truth)"
   ]
  },
  {
   "cell_type": "code",
   "execution_count": 25,
   "metadata": {},
   "outputs": [
    {
     "name": "stdout",
     "output_type": "stream",
     "text": [
      "us [0 0 0 1 0 1 0 1 0 0]\n",
      "gt [0 1 1 1 0 1 1 1 0 0]\n"
     ]
    }
   ],
   "source": [
    "# arg = np.argwhere(pval>0.005)\n",
    "# for i in range(arg.shape[0]):\n",
    "#     if arg[i][0]!=arg[i][1]:\n",
    "#         print(arg[i])\n",
    "\n",
    "edge = np.zeros(nball*(nball-1)//2)\n",
    "cnt = 0\n",
    "for i in range(nball):\n",
    "    for j in range(i):\n",
    "        if pval[i,j]<1.3:\n",
    "            edge[cnt]=0\n",
    "        else:\n",
    "            edge[cnt]=1\n",
    "        cnt+=1\n",
    "print('us',edge.astype(int))\n",
    "print('gt',edge_type)"
   ]
  },
  {
   "cell_type": "code",
   "execution_count": null,
   "metadata": {},
   "outputs": [],
   "source": []
  },
  {
   "cell_type": "code",
   "execution_count": null,
   "metadata": {},
   "outputs": [],
   "source": []
  }
 ],
 "metadata": {
  "kernelspec": {
   "display_name": "CondSigKME",
   "language": "python",
   "name": "condsigkme"
  },
  "language_info": {
   "codemirror_mode": {
    "name": "ipython",
    "version": 3
   },
   "file_extension": ".py",
   "mimetype": "text/x-python",
   "name": "python",
   "nbconvert_exporter": "python",
   "pygments_lexer": "ipython3",
   "version": "3.7.10"
  },
  "latex_envs": {
   "LaTeX_envs_menu_present": true,
   "autoclose": false,
   "autocomplete": true,
   "bibliofile": "biblio.bib",
   "cite_by": "apalike",
   "current_citInitial": 1,
   "eqLabelWithNumbers": true,
   "eqNumInitial": 1,
   "hotkeys": {
    "equation": "Ctrl-E",
    "itemize": "Ctrl-I"
   },
   "labels_anchors": false,
   "latex_user_defs": false,
   "report_style_numbering": false,
   "user_envs_cfg": false
  },
  "toc": {
   "nav_menu": {},
   "number_sections": true,
   "sideBar": true,
   "skip_h1_title": false,
   "title_cell": "Table of Contents",
   "title_sidebar": "Contents",
   "toc_cell": true,
   "toc_position": {},
   "toc_section_display": true,
   "toc_window_display": true
  }
 },
 "nbformat": 4,
 "nbformat_minor": 4
}
