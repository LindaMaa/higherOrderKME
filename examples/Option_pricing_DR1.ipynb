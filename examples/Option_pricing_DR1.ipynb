{
  "nbformat": 4,
  "nbformat_minor": 0,
  "metadata": {
    "colab": {
      "name": "Option_pricing_DR1.ipynb",
      "provenance": [],
      "collapsed_sections": []
    },
    "kernelspec": {
      "name": "python3",
      "display_name": "Python 3"
    },
    "language_info": {
      "name": "python"
    },
    "accelerator": "GPU"
  },
  "cells": [
    {
      "cell_type": "markdown",
      "metadata": {
        "id": "7xg5FutVG6tU"
      },
      "source": [
        "**Install packages**"
      ]
    },
    {
      "cell_type": "code",
      "metadata": {
        "id": "NxkLCIXrOyrL"
      },
      "source": [
        "import pickle\n",
        "import numpy as np\n",
        "import pandas as pd"
      ],
      "execution_count": 1,
      "outputs": []
    },
    {
      "cell_type": "code",
      "metadata": {
        "id": "KyiQCmCxDJCM"
      },
      "source": [
        "# !git clone https://github.com/maudl3116/CondSigKME.git"
      ],
      "execution_count": null,
      "outputs": []
    },
    {
      "cell_type": "code",
      "metadata": {
        "id": "huBzMZZ3EFne",
        "colab": {
          "base_uri": "https://localhost:8080/"
        },
        "outputId": "bb40e6b0-8dcc-4361-cc9f-cded4d00dbbd"
      },
      "source": [
        "%cd CondSigKME"
      ],
      "execution_count": 2,
      "outputs": [
        {
          "output_type": "stream",
          "text": [
            "/content/CondSigKME\n"
          ],
          "name": "stdout"
        }
      ]
    },
    {
      "cell_type": "code",
      "metadata": {
        "id": "QqlwzCbkEImU"
      },
      "source": [
        "# !pip install -r requirements.txt"
      ],
      "execution_count": null,
      "outputs": []
    },
    {
      "cell_type": "code",
      "metadata": {
        "id": "av-D6Zq0GiVS"
      },
      "source": [
        "# !pip install git+https://github.com/maudl3116/sigkernel.git"
      ],
      "execution_count": null,
      "outputs": []
    },
    {
      "cell_type": "markdown",
      "metadata": {
        "id": "JGeYfy2_G24p"
      },
      "source": [
        "**Generate one dataset**"
      ]
    },
    {
      "cell_type": "code",
      "metadata": {
        "id": "PmqhNSbNDPz5",
        "colab": {
          "base_uri": "https://localhost:8080/"
        },
        "outputId": "b6723b54-75db-4080-85c4-f312bcc981cb"
      },
      "source": [
        "%cd options_utils"
      ],
      "execution_count": 3,
      "outputs": [
        {
          "output_type": "stream",
          "text": [
            "/content/CondSigKME/options_utils\n"
          ],
          "name": "stdout"
        }
      ]
    },
    {
      "cell_type": "code",
      "metadata": {
        "id": "vyyC5RlMxZEo"
      },
      "source": [
        "# !pip install --no-cache-dir -e ."
      ],
      "execution_count": null,
      "outputs": []
    },
    {
      "cell_type": "markdown",
      "metadata": {
        "id": "u-AS5ZaPv9rB"
      },
      "source": [
        "\n",
        "> **Generate reference prices**\n",
        "\n"
      ]
    },
    {
      "cell_type": "code",
      "metadata": {
        "id": "rjwC4cXgDyCb"
      },
      "source": [
        "# !python optimal_stopping/run/run_algo.py --configs=config1_prices --nb_jobs=2;"
      ],
      "execution_count": null,
      "outputs": []
    },
    {
      "cell_type": "markdown",
      "metadata": {
        "id": "xhk-_eJFwLAp"
      },
      "source": [
        "\n",
        "> **Generate the sample paths**\n",
        "\n"
      ]
    },
    {
      "cell_type": "code",
      "metadata": {
        "id": "p431ZoiLv7s5"
      },
      "source": [
        "# !python optimal_stopping/run/generate_paths.py --configs=config1_paths --nb_jobs=2;"
      ],
      "execution_count": null,
      "outputs": []
    },
    {
      "cell_type": "markdown",
      "metadata": {
        "id": "qv3PeWWItp1T"
      },
      "source": [
        "**Or load existing dataset**"
      ]
    },
    {
      "cell_type": "code",
      "metadata": {
        "id": "RKeIu9pVts3h"
      },
      "source": [
        "df_ = pd.read_csv('output/metrics_draft/config1_prices.csv')\n",
        "df = df_[['hurst','price']]\n",
        "prices = df.groupby('hurst', as_index=False)['price'].mean()\n",
        "paths  = pickle.load(open('output/metrics_draft/config1_paths.obj','rb'))"
      ],
      "execution_count": 4,
      "outputs": []
    },
    {
      "cell_type": "markdown",
      "metadata": {
        "id": "Kh4FDBQJHXZf"
      },
      "source": [
        "**Run one toy experiment**"
      ]
    },
    {
      "cell_type": "code",
      "metadata": {
        "id": "iFP2y-ZGHc9d",
        "colab": {
          "base_uri": "https://localhost:8080/"
        },
        "outputId": "63742ded-b24d-4c58-83a4-b758d0041ede"
      },
      "source": [
        "%cd ../src"
      ],
      "execution_count": 5,
      "outputs": [
        {
          "output_type": "stream",
          "text": [
            "/content/CondSigKME/src\n"
          ],
          "name": "stdout"
        }
      ]
    },
    {
      "cell_type": "code",
      "metadata": {
        "id": "LBOgOy3_HV_1"
      },
      "source": [
        "from KES import model"
      ],
      "execution_count": 6,
      "outputs": []
    },
    {
      "cell_type": "code",
      "metadata": {
        "colab": {
          "base_uri": "https://localhost:8080/"
        },
        "id": "V80yF-axP4sC",
        "outputId": "30ea07ae-63a6-4050-f0c5-564e09295d68"
      },
      "source": [
        "sub = 2\n",
        "M = 500\n",
        "alphas0 = [1.]\n",
        "alphas1 = [20]\n",
        "lambdas = [1.]\n",
        "#0.01,0.5,1.,5.,10.,20.\n",
        "paths_sub = [p[:M,:5,:] for p in paths[::sub]]\n",
        "scores,_, results, ind_train, ind_test, model_ = model(paths_sub, prices['price'].to_numpy()[::sub],rank=1, alphas0=alphas0,alphas1=alphas1,lambdas=lambdas,at=True,ll=None,cv=3, mode='krr',imbalanced=True)"
      ],
      "execution_count": 21,
      "outputs": [
        {
          "output_type": "stream",
          "text": [
            "100%|██████████| 26/26 [01:25<00:00,  3.28s/it]\n",
            "100%|██████████| 1/1 [00:02<00:00,  2.28s/it]"
          ],
          "name": "stderr"
        },
        {
          "output_type": "stream",
          "text": [
            "best scaling parameter (cv on the train set):  (1.0, 20, 1.0)\n",
            "best mse score (cv on the train set):  0.010430496832010387\n"
          ],
          "name": "stdout"
        },
        {
          "output_type": "stream",
          "text": [
            "\n"
          ],
          "name": "stderr"
        }
      ]
    },
    {
      "cell_type": "code",
      "metadata": {
        "id": "R0pZaeiVQIsT"
      },
      "source": [
        "y_pred_train = model_.predict(ind_train)\n",
        "y_pred_test = model_.predict(ind_test)"
      ],
      "execution_count": 22,
      "outputs": []
    },
    {
      "cell_type": "code",
      "metadata": {
        "colab": {
          "base_uri": "https://localhost:8080/"
        },
        "id": "EBlP-TNddMdT",
        "outputId": "31d7d34a-06a9-4235-ba4d-ac483d8e1fc8"
      },
      "source": [
        "scores"
      ],
      "execution_count": 23,
      "outputs": [
        {
          "output_type": "execute_result",
          "data": {
            "text/plain": [
              "0.14098497512241337"
            ]
          },
          "metadata": {
            "tags": []
          },
          "execution_count": 23
        }
      ]
    },
    {
      "cell_type": "code",
      "metadata": {
        "colab": {
          "base_uri": "https://localhost:8080/",
          "height": 297
        },
        "id": "gTkb0lkha6gR",
        "outputId": "ce37f4cf-ecd2-4784-ded3-440f4b67d353"
      },
      "source": [
        "import matplotlib.pyplot as plt\n",
        "plt.scatter(prices['hurst'].to_numpy()[::sub][ind_train],y_pred_train,color='r', label='train data')\n",
        "plt.scatter(prices['hurst'].to_numpy()[::sub][ind_test],y_pred_test,color='b', label='test data')\n",
        "plt.plot(prices['hurst'].to_numpy()[::sub],prices['price'].to_numpy()[::sub],color='k', label='')\n",
        "plt.xlabel('hurst')\n",
        "plt.ylabel('price')\n",
        "plt.legend()\n",
        "plt.title(r'DR rank $1$ (RMSE=%0.004f)'%scores)\n",
        "# plt.savefig('DR_rank0.pdf')\n",
        "plt.show()"
      ],
      "execution_count": 24,
      "outputs": [
        {
          "output_type": "display_data",
          "data": {
            "image/png": "[encoded data removed]",
            "text/plain": [
              "<Figure size 432x288 with 1 Axes>"
            ]
          },
          "metadata": {
            "tags": [],
            "needs_background": "light"
          }
        }
      ]
    },
    {
      "cell_type": "code",
      "metadata": {
        "colab": {
          "base_uri": "https://localhost:8080/",
          "height": 297
        },
        "id": "hEXYjX2eRTeu",
        "outputId": "51f2533d-f402-4d46-c43b-6c15a908ca8e"
      },
      "source": [
        "import matplotlib.pyplot as plt\n",
        "plt.scatter(prices['hurst'].to_numpy()[::sub][ind_train],y_pred_train,color='r', label='train data')\n",
        "plt.scatter(prices['hurst'].to_numpy()[::sub][ind_test],y_pred_test,color='b', label='test data')\n",
        "plt.plot(prices['hurst'].to_numpy()[::sub],prices['price'].to_numpy()[::sub],color='k', label='')\n",
        "plt.xlabel('hurst')\n",
        "plt.ylabel('price')\n",
        "plt.legend()\n",
        "plt.title(r'DR rank $0$ (RMSE=%0.004f)'%scores)\n",
        "# plt.savefig('DR_rank0.pdf')\n",
        "plt.show()"
      ],
      "execution_count": 15,
      "outputs": [
        {
          "output_type": "display_data",
          "data": {
            "image/png": "[encoded data removed]",
            "text/plain": [
              "<Figure size 432x288 with 1 Axes>"
            ]
          },
          "metadata": {
            "tags": [],
            "needs_background": "light"
          }
        }
      ]
    },
    {
      "cell_type": "code",
      "metadata": {
        "id": "8rn_UQ4CnuSI"
      },
      "source": [
        ""
      ],
      "execution_count": null,
      "outputs": []
    }
  ]
}