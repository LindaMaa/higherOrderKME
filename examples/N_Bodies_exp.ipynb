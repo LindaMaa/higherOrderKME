{
 "cells": [
  {
   "cell_type": "markdown",
   "metadata": {
    "toc": true
   },
   "source": [
    "<h1>Table of Contents<span class=\"tocSkip\"></span></h1>\n",
    "<div class=\"toc\"><ul class=\"toc-item\"></ul></div>"
   ]
  },
  {
   "cell_type": "markdown",
   "metadata": {
    "id": "7xg5FutVG6tU"
   },
   "source": [
    "**Install packages**"
   ]
  },
  {
   "cell_type": "code",
   "execution_count": null,
   "metadata": {
    "id": "KyiQCmCxDJCM"
   },
   "outputs": [],
   "source": [
    "!git clone https://github.com/maudl3116/CondSigKME.git"
   ]
  },
  {
   "cell_type": "code",
   "execution_count": null,
   "metadata": {
    "id": "huBzMZZ3EFne"
   },
   "outputs": [],
   "source": [
    "%cd CondSigKME"
   ]
  },
  {
   "cell_type": "code",
   "execution_count": null,
   "metadata": {
    "id": "QqlwzCbkEImU"
   },
   "outputs": [],
   "source": [
    "!pip install -r requirements.txt"
   ]
  },
  {
   "cell_type": "code",
   "execution_count": null,
   "metadata": {
    "id": "av-D6Zq0GiVS"
   },
   "outputs": [],
   "source": [
    "!pip install git+https://github.com/maudl3116/sigkernel.git"
   ]
  },
  {
   "cell_type": "markdown",
   "metadata": {
    "id": "JGeYfy2_G24p"
   },
   "source": [
    "**Generate data**"
   ]
  },
  {
   "cell_type": "code",
   "execution_count": 1,
   "metadata": {
    "id": "PmqhNSbNDPz5"
   },
   "outputs": [
    {
     "name": "stdout",
     "output_type": "stream",
     "text": [
      "/Users/maudlemercier/Desktop/CondSigKME/n_vcn_utils\n"
     ]
    }
   ],
   "source": [
    "%cd ../n_vcn_utils"
   ]
  },
  {
   "cell_type": "code",
   "execution_count": 2,
   "metadata": {
    "id": "rjwC4cXgDyCb"
   },
   "outputs": [],
   "source": [
    "# !sh exp1.sh"
   ]
  },
  {
   "cell_type": "code",
   "execution_count": 3,
   "metadata": {
    "id": "iFP2y-ZGHc9d"
   },
   "outputs": [
    {
     "name": "stdout",
     "output_type": "stream",
     "text": [
      "/Users/maudlemercier/Desktop/CondSigKME\n"
     ]
    }
   ],
   "source": [
    "%cd ../"
   ]
  },
  {
   "cell_type": "code",
   "execution_count": 4,
   "metadata": {
    "id": "LBOgOy3_HV_1"
   },
   "outputs": [],
   "source": [
    "import os\n",
    "import numpy as np\n",
    "import matplotlib.pyplot as plt\n",
    "from n_vcn_utils.utils import load_data\n",
    "from src.SigKPC.pcskeleton import skeleton\n",
    "import pickle "
   ]
  },
  {
   "cell_type": "markdown",
   "metadata": {},
   "source": [
    "**Define utilities** "
   ]
  },
  {
   "cell_type": "code",
   "execution_count": 30,
   "metadata": {},
   "outputs": [],
   "source": [
    "def get_gt_graph(path): \n",
    "    graph = pickle.load(open(path,'rb'))\n",
    "    return graph[0][0][:,0].astype(np.int)\n",
    "\n",
    "\n",
    "def pred_graph(pval,alpha=0.6,nball=5):\n",
    "    edge = np.zeros(nball*(nball-1)//2)\n",
    "    cnt = 0\n",
    "    for i in range(nball):\n",
    "        for j in range(i):\n",
    "            if pval[i,j]<alpha:\n",
    "                edge[cnt]=0\n",
    "            else:\n",
    "                edge[cnt]=1\n",
    "            cnt+=1\n",
    "    return edge.astype(int)"
   ]
  },
  {
   "cell_type": "markdown",
   "metadata": {
    "id": "Kh4FDBQJHXZf"
   },
   "source": [
    "**Run experiment**"
   ]
  },
  {
   "cell_type": "code",
   "execution_count": 33,
   "metadata": {},
   "outputs": [],
   "source": [
    "nball = 5"
   ]
  },
  {
   "cell_type": "code",
   "execution_count": 34,
   "metadata": {},
   "outputs": [
    {
     "name": "stderr",
     "output_type": "stream",
     "text": [
      "/Users/maudlemercier/opt/anaconda3/envs/CondSigKME/lib/python3.7/site-packages/ipykernel_launcher.py:3: DeprecationWarning: `np.int` is a deprecated alias for the builtin `int`. To silence this warning, use `int` by itself. Doing this will not modify any behavior and is safe. When replacing `np.int`, you may wish to use e.g. `np.int64` or `np.int32` to specify the precision. If you wish to review your current use, check the release note link for additional information.\n",
      "Deprecated in NumPy 1.20; for more details and guidance: https://numpy.org/devdocs/release/1.20.0-notes.html#deprecations\n",
      "  This is separate from the ipykernel package so we can avoid doing imports until\n"
     ]
    },
    {
     "name": "stdout",
     "output_type": "stream",
     "text": [
      "pval tensor(0., dtype=torch.float64)\n",
      "pval tensor(0., dtype=torch.float64)\n",
      "pval tensor(0., dtype=torch.float64)\n",
      "pval tensor(0., dtype=torch.float64)\n",
      "pval tensor(0., dtype=torch.float64)\n",
      "pval tensor(0., dtype=torch.float64)\n",
      "pval tensor(0., dtype=torch.float64)\n",
      "pval tensor(0., dtype=torch.float64)\n",
      "pval tensor(0., dtype=torch.float64)\n",
      "pval tensor(0., dtype=torch.float64)\n",
      "correct fraction 0.5\n",
      "pval tensor(9.7704, dtype=torch.float64)\n",
      "pval tensor(35.6967, dtype=torch.float64)\n",
      "pval tensor(0.2780, dtype=torch.float64)\n",
      "pval tensor(841.9808, dtype=torch.float64)\n",
      "pval tensor(53.8007, dtype=torch.float64)\n",
      "pval tensor(0.6343, dtype=torch.float64)\n",
      "pval tensor(435.6402, dtype=torch.float64)\n",
      "pval tensor(22.1747, dtype=torch.float64)\n",
      "pval tensor(0.3200, dtype=torch.float64)\n",
      "pval tensor(1070.6741, dtype=torch.float64)\n",
      "pval tensor(91.0217, dtype=torch.float64)\n",
      "pval tensor(100.6976, dtype=torch.float64)\n",
      "pval tensor(0.1886, dtype=torch.float64)\n",
      "pval tensor(0.1637, dtype=torch.float64)\n",
      "pval tensor(0.4063, dtype=torch.float64)\n",
      "pval tensor(841.9808, dtype=torch.float64)\n",
      "pval tensor(53.8007, dtype=torch.float64)\n",
      "pval tensor(0.6343, dtype=torch.float64)\n",
      "pval tensor(0.1890, dtype=torch.float64)\n",
      "pval tensor(0.4450, dtype=torch.float64)\n",
      "pval tensor(0.4046, dtype=torch.float64)\n",
      "pval tensor(1070.6741, dtype=torch.float64)\n",
      "pval tensor(91.0217, dtype=torch.float64)\n",
      "pval tensor(100.6976, dtype=torch.float64)\n",
      "correct fraction 0.7\n",
      "pval tensor(0., dtype=torch.float64)\n",
      "pval tensor(0., dtype=torch.float64)\n",
      "pval tensor(0., dtype=torch.float64)\n",
      "pval tensor(0., dtype=torch.float64)\n",
      "pval tensor(0., dtype=torch.float64)\n",
      "pval tensor(0., dtype=torch.float64)\n",
      "pval tensor(0., dtype=torch.float64)\n",
      "pval tensor(0., dtype=torch.float64)\n",
      "pval tensor(0., dtype=torch.float64)\n",
      "pval tensor(0., dtype=torch.float64)\n",
      "correct fraction 0.6\n",
      "pval tensor(2.3331, dtype=torch.float64)\n",
      "pval tensor(3890.5017, dtype=torch.float64)\n",
      "pval tensor(0.4801, dtype=torch.float64)\n",
      "pval tensor(844.6636, dtype=torch.float64)\n",
      "pval tensor(31672.2773, dtype=torch.float64)\n",
      "pval tensor(3.5732, dtype=torch.float64)\n",
      "pval tensor(84.7183, dtype=torch.float64)\n",
      "pval tensor(0.7667, dtype=torch.float64)\n",
      "pval tensor(0.4915, dtype=torch.float64)\n",
      "pval tensor(608.8760, dtype=torch.float64)\n",
      "pval tensor(8.0429, dtype=torch.float64)\n",
      "pval tensor(15049.0504, dtype=torch.float64)\n",
      "pval tensor(3.0533, dtype=torch.float64)\n",
      "pval tensor(5966.4085, dtype=torch.float64)\n",
      "pval tensor(1.0275, dtype=torch.float64)\n",
      "pval tensor(0.2783, dtype=torch.float64)\n",
      "pval tensor(1.9277, dtype=torch.float64)\n",
      "pval tensor(0.6587, dtype=torch.float64)\n",
      "pval tensor(3000.9112, dtype=torch.float64)\n",
      "pval tensor(844.6636, dtype=torch.float64)\n",
      "pval tensor(31672.2773, dtype=torch.float64)\n",
      "pval tensor(3.5732, dtype=torch.float64)\n",
      "pval tensor(3.0533, dtype=torch.float64)\n",
      "pval tensor(5966.4085, dtype=torch.float64)\n",
      "pval tensor(1.0275, dtype=torch.float64)\n",
      "pval tensor(2.4985, dtype=torch.float64)\n",
      "pval tensor(337.2926, dtype=torch.float64)\n",
      "pval tensor(1.4650, dtype=torch.float64)\n",
      "pval tensor(15.0527, dtype=torch.float64)\n",
      "pval tensor(2192.2001, dtype=torch.float64)\n",
      "pval tensor(32697.1661, dtype=torch.float64)\n",
      "pval tensor(2.4985, dtype=torch.float64)\n",
      "pval tensor(337.2926, dtype=torch.float64)\n",
      "pval tensor(1.4650, dtype=torch.float64)\n",
      "pval tensor(1.5785, dtype=torch.float64)\n",
      "pval tensor(242.3895, dtype=torch.float64)\n",
      "pval tensor(0.2207, dtype=torch.float64)\n",
      "pval tensor(608.8760, dtype=torch.float64)\n",
      "pval tensor(8.0429, dtype=torch.float64)\n",
      "pval tensor(15049.0504, dtype=torch.float64)\n",
      "pval tensor(1.9277, dtype=torch.float64)\n",
      "pval tensor(0.6587, dtype=torch.float64)\n",
      "pval tensor(3000.9112, dtype=torch.float64)\n",
      "pval tensor(15.0527, dtype=torch.float64)\n",
      "pval tensor(2192.2001, dtype=torch.float64)\n",
      "pval tensor(32697.1661, dtype=torch.float64)\n",
      "correct fraction 0.9\n"
     ]
    }
   ],
   "source": [
    "for repeat in range(2):\n",
    "    for i,param in enumerate(range(2,6,2)):\n",
    "        name_paths = 'n_vcn_utils/data/exp1/{0}_Ball/{1}.obj'.format(repeat,i)\n",
    "        name_graph = 'n_vcn_utils/data/exp1/{0}_Ball/graph_{1}.obj'.format(repeat,i)\n",
    "\n",
    "        # get the distribution\n",
    "        distri = pickle.load(open(name_paths,'rb'))  # (n_ball, i, T, D) with D=4\n",
    "        \n",
    "        # get ground truth graph \n",
    "        graph_gt = get_gt_graph(name_graph)\n",
    "        \n",
    "        # run causal discovery\n",
    "        res = skeleton(distri*0.01, alpha=0.5, test= False, p=nball, maxi=1, fixedGaps=None, eps=0.01, dyadic_order=2, static='rbf', sigma=10.)\n",
    "        pval = res[2].copy()\n",
    "        graph_pred = pred_graph(pval,alpha=0.6,nball=nball)\n",
    "        print('correct fraction', np.mean(graph_pred.astype(int)==graph_gt))"
   ]
  }
 ],
 "metadata": {
  "accelerator": "GPU",
  "colab": {
   "collapsed_sections": [],
   "name": "Untitled7.ipynb",
   "provenance": []
  },
  "kernelspec": {
   "display_name": "CondSigKME",
   "language": "python",
   "name": "condsigkme"
  },
  "language_info": {
   "codemirror_mode": {
    "name": "ipython",
    "version": 3
   },
   "file_extension": ".py",
   "mimetype": "text/x-python",
   "name": "python",
   "nbconvert_exporter": "python",
   "pygments_lexer": "ipython3",
   "version": "3.7.10"
  },
  "latex_envs": {
   "LaTeX_envs_menu_present": true,
   "autoclose": false,
   "autocomplete": true,
   "bibliofile": "biblio.bib",
   "cite_by": "apalike",
   "current_citInitial": 1,
   "eqLabelWithNumbers": true,
   "eqNumInitial": 1,
   "hotkeys": {
    "equation": "Ctrl-E",
    "itemize": "Ctrl-I"
   },
   "labels_anchors": false,
   "latex_user_defs": false,
   "report_style_numbering": false,
   "user_envs_cfg": false
  },
  "toc": {
   "nav_menu": {},
   "number_sections": true,
   "sideBar": true,
   "skip_h1_title": false,
   "title_cell": "Table of Contents",
   "title_sidebar": "Contents",
   "toc_cell": true,
   "toc_position": {},
   "toc_section_display": true,
   "toc_window_display": true
  }
 },
 "nbformat": 4,
 "nbformat_minor": 1
}
